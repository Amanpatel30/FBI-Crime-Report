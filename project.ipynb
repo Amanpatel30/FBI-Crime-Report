{
 "cells": [
  {
   "cell_type": "code",
   "execution_count": 24,
   "id": "382d96a6-cb67-41fe-be79-4a877bf64d62",
   "metadata": {},
   "outputs": [],
   "source": [
    "import pandas as pd"
   ]
  },
  {
   "cell_type": "code",
   "execution_count": 29,
   "id": "b6c5415c-46fb-4cf1-8be1-d8b5a5c10566",
   "metadata": {},
   "outputs": [],
   "source": [
    "Participation_by_State = pd.read_csv(\"NIBRS_Table_2_Participation_by_State_2024.csv\", encoding='latin1')\n",
    "Incidents_Offenses = pd.read_csv(\"NIBRS_Table_3_Incidents_Offenses_Victims_and_Known_Offenders_by_Offense_Category_2024.csv\", encoding='latin1')\n",
    "Victims = pd.read_csv(\"NIBRS_Table_4_Victims_Adult_and_Juvenile_Age_Category_by_Offense_Category_2024.csv\", encoding='latin1')\n",
    "Age_Victims = pd.read_csv(\"NIBRS_Table_5_Victims_Age_by_Offense_Category_2024.csv\", encoding='latin1')\n",
    "Sex_Victims = pd.read_csv(\"NIBRS_Table_6_Victims_Sex_by_Offense_Category_2024.csv\", encoding='latin1')\n",
    "Race_Victims = pd.read_csv(\"NIBRS_Table_7_Victims_Race_by_Offense_Category_2024.csv\", encoding='latin1')\n",
    "Offenders_AJ = pd.read_csv(\"NIBRS_Table_8_Offenders_Adult_and_Juvenile_Age_Category_by_Offense_Category_2024.csv\", encoding='latin1')\n",
    "Offenders_Age = pd.read_csv(\"NIBRS_Table_9_Offenders_Age_by_Offense_Category_2024.csv\", encoding='latin1')\n",
    "Offenders_Sex = pd.read_csv(\"NIBRS_Table_10_Offenders_Sex_by_Offense_Category_2024.csv\", encoding='latin1')\n",
    "Offenders_Race = pd.read_csv(\"NIBRS_Table_11_Offenders_Race_by_Offense_Category_2024.csv\", encoding='latin1')\n",
    "Arrestees_AJ = pd.read_csv(\"NIBRS_Table_12_Arrestees_Adult_and_Juvenile_Age_Category_by_Arrest_Offense_Category_2024.csv\", encoding='latin1')\n",
    "Arrestees_Age = pd.read_csv(\"NIBRS_Table_13_Arrestees_Age_by_Arrest_Offense_Category_2024.csv\", encoding='latin1')\n",
    "Arrestees_Sex = pd.read_csv(\"NIBRS_Table_14_Arrestees_Sex_by_Arrest_Offense_Category_2024.csv\", encoding='latin1')\n",
    "Arrestees_Race = pd.read_csv(\"NIBRS_Table_15_Arrestees_Race_by_Arrest_Offense_Category_2024.csv\", encoding='latin1')\n",
    "Victim_Offender_Relationship = pd.read_csv(\"NIBRS_Table_16_Relationship_of_Victims_to_Offenders_by_Offense_Category_2024.csv\", encoding='latin1')\n",
    "Crimes_Persons_Location = pd.read_csv(\"NIBRS_Table_17_Crimes_Against_Persons_Offenses_Offense_Category_by_Location_2024.csv\", encoding='latin1')\n",
    "Crimes_Property_Location = pd.read_csv(\"NIBRS_Table_18_Crimes_Against_Property_Offenses_Offense_Category_by_Location_2024.csv\", encoding='latin1')\n",
    "Crimes_Society_Location = pd.read_csv(\"NIBRS_Table_19_Crimes_Against_Society_Offenses_Offense_Category_by_Location_2024.csv\", encoding='latin1')\n",
    "Crimes_Persons_Time = pd.read_csv(\"NIBRS_Table_20_Crimes_Against_Persons_Incidents_Offense_Category_by_Time_of_Day_2024.csv\", encoding='latin1')\n",
    "Crimes_Property_Time = pd.read_csv(\"NIBRS_Table_21_Crimes_Against_Property_Incidents_Offense_Category_by_Time_of_Day_2024.csv\", encoding='latin1')\n",
    "Crimes_Society_Time = pd.read_csv(\"NIBRS_Table_22_Crimes_Against_Society_Incidents_Offense_Category_by_Time_of_Day_2024.csv\", encoding='latin1')\n",
    "Weapon_Use = pd.read_csv(\"NIBRS_Table_23_Offenses_Involving_Weapon_Use_Off_Cat_by_Type_of_Weapon_Force_Involved_2024.csv\", encoding='latin1')\n",
    "Murder_Assault_Circumstances = pd.read_csv(\"NIBRS_Table_24_Murder_and_Nonnegligent_Manslaughter_and_Aggravated_Assault_Victims_Off_Type_by_Circumst_2024.csv\", encoding='latin1')\n",
    "Justifiable_Homicide = pd.read_csv(\"NIBRS_Table_26_Individuals_Justifiably_Killed_Justifiable_Homicide_Circum_by_Agg_Aslt_Homicide_Circum_2024.csv\", encoding='latin1')\n",
    "Crimes_Persons_State = pd.read_csv(\"NIBRS_Table_27_Crimes_Against_Persons_Offenses_Offense_Category_by_State_2024.csv\", encoding='latin1')\n",
    "Crimes_Property_State = pd.read_csv(\"NIBRS_Table_28_Crimes_Against_Property_Offenses_Offense_Category_by_State_2024.csv\", encoding='latin1')\n",
    "Crimes_Society_State = pd.read_csv(\"NIBRS_Table_29_Crimes_Against_Society_Offenses_Offense_Category_by_State_2024.csv\", encoding='latin1')\n",
    "Offenses_Completed_Attempted = pd.read_csv(\"NIBRS_Table_30_Number_of_Offenses_Completed_and_Attempted_by_Offense_Category_2024.csv\", encoding='latin1')\n",
    "Incidents_Cleared = pd.read_csv(\"NIBRS_Table_31_Incidents_Cleared_by_Offense_Category_2024.csv\", encoding='latin1')\n",
    "Drug_Seizures = pd.read_csv(\"NIBRS_Table_32_Incidents_with_Drugs_Narcotics_Seized_by_Suspected_Drug_Type_2024.csv\", encoding='latin1')\n",
    "Drug_Alcohol_Use = pd.read_csv(\"NIBRS_Table_33_Offenses_Involving_Offenders_Suspected_Use_Drugs_Narcotics_and_Alcohol_by_Offense_Category_2024.csv\", encoding='latin1')\n",
    "US_Offense_Agency = pd.read_csv(\"NIBRS_United_States_Offense_Type_by_Agency_2024.csv\",encoding=\"latin1\",low_memory=False)"
   ]
  },
  {
   "cell_type": "code",
   "execution_count": 40,
   "id": "3580c0ea-bf1e-4349-b986-02a3b82cc3cc",
   "metadata": {},
   "outputs": [
    {
     "name": "stdout",
     "output_type": "stream",
     "text": [
      "Cleaned Columns: ['State', 'Number of Participating Agencies', 'Population Covered']\n"
     ]
    },
    {
     "data": {
      "application/vnd.plotly.v1+json": {
       "config": {
        "plotlyServerURL": "https://plot.ly"
       },
       "data": [
        {
         "hovertemplate": "State=%{z}<br>Population Covered=%{x}<br>Number of Participating Agencies=%{y}<extra></extra>",
         "legendgroup": "TOTAL",
         "marker": {
          "color": "#000001",
          "symbol": "circle"
         },
         "mode": "markers",
         "name": "TOTAL",
         "scene": "scene",
         "showlegend": true,
         "type": "scatter3d",
         "x": [
          "29,65,27,998"
         ],
         "y": [
          "14,601"
         ],
         "z": [
          "TOTAL"
         ]
        },
        {
         "hovertemplate": "State=%{z}<br>Population Covered=%{x}<br>Number of Participating Agencies=%{y}<extra></extra>",
         "legendgroup": "Alabama",
         "marker": {
          "color": "#000002",
          "symbol": "circle"
         },
         "mode": "markers",
         "name": "Alabama",
         "scene": "scene",
         "showlegend": true,
         "type": "scatter3d",
         "x": [
          "50,33,518"
         ],
         "y": [
          "418"
         ],
         "z": [
          "Alabama"
         ]
        },
        {
         "hovertemplate": "State=%{z}<br>Population Covered=%{x}<br>Number of Participating Agencies=%{y}<extra></extra>",
         "legendgroup": "Alaska",
         "marker": {
          "color": "#000003",
          "symbol": "circle"
         },
         "mode": "markers",
         "name": "Alaska",
         "scene": "scene",
         "showlegend": true,
         "type": "scatter3d",
         "x": [
          "4,50,712"
         ],
         "y": [
          "32"
         ],
         "z": [
          "Alaska"
         ]
        },
        {
         "hovertemplate": "State=%{z}<br>Population Covered=%{x}<br>Number of Participating Agencies=%{y}<extra></extra>",
         "legendgroup": "Arizona",
         "marker": {
          "color": "#000004",
          "symbol": "circle"
         },
         "mode": "markers",
         "name": "Arizona",
         "scene": "scene",
         "showlegend": true,
         "type": "scatter3d",
         "x": [
          "53,07,431"
         ],
         "y": [
          "92"
         ],
         "z": [
          "Arizona"
         ]
        },
        {
         "hovertemplate": "State=%{z}<br>Population Covered=%{x}<br>Number of Participating Agencies=%{y}<extra></extra>",
         "legendgroup": "Arkansas",
         "marker": {
          "color": "#000005",
          "symbol": "circle"
         },
         "mode": "markers",
         "name": "Arkansas",
         "scene": "scene",
         "showlegend": true,
         "type": "scatter3d",
         "x": [
          "30,29,333"
         ],
         "y": [
          "361"
         ],
         "z": [
          "Arkansas"
         ]
        },
        {
         "hovertemplate": "State=%{z}<br>Population Covered=%{x}<br>Number of Participating Agencies=%{y}<extra></extra>",
         "legendgroup": "California",
         "marker": {
          "color": "#000006",
          "symbol": "circle"
         },
         "mode": "markers",
         "name": "California",
         "scene": "scene",
         "showlegend": true,
         "type": "scatter3d",
         "x": [
          "3,00,04,853"
         ],
         "y": [
          "654"
         ],
         "z": [
          "California"
         ]
        },
        {
         "hovertemplate": "State=%{z}<br>Population Covered=%{x}<br>Number of Participating Agencies=%{y}<extra></extra>",
         "legendgroup": "Colorado",
         "marker": {
          "color": "#000007",
          "symbol": "circle"
         },
         "mode": "markers",
         "name": "Colorado",
         "scene": "scene",
         "showlegend": true,
         "type": "scatter3d",
         "x": [
          "59,14,071"
         ],
         "y": [
          "226"
         ],
         "z": [
          "Colorado"
         ]
        },
        {
         "hovertemplate": "State=%{z}<br>Population Covered=%{x}<br>Number of Participating Agencies=%{y}<extra></extra>",
         "legendgroup": "Connecticut",
         "marker": {
          "color": "#000008",
          "symbol": "circle"
         },
         "mode": "markers",
         "name": "Connecticut",
         "scene": "scene",
         "showlegend": true,
         "type": "scatter3d",
         "x": [
          "36,75,069"
         ],
         "y": [
          "108"
         ],
         "z": [
          "Connecticut"
         ]
        },
        {
         "hovertemplate": "State=%{z}<br>Population Covered=%{x}<br>Number of Participating Agencies=%{y}<extra></extra>",
         "legendgroup": "Delaware",
         "marker": {
          "color": "#000009",
          "symbol": "circle"
         },
         "mode": "markers",
         "name": "Delaware",
         "scene": "scene",
         "showlegend": true,
         "type": "scatter3d",
         "x": [
          "10,51,917"
         ],
         "y": [
          "63"
         ],
         "z": [
          "Delaware"
         ]
        },
        {
         "hovertemplate": "State=%{z}<br>Population Covered=%{x}<br>Number of Participating Agencies=%{y}<extra></extra>",
         "legendgroup": "District of Columbia",
         "marker": {
          "color": "#000010",
          "symbol": "circle"
         },
         "mode": "markers",
         "name": "District of Columbia",
         "scene": "scene",
         "showlegend": true,
         "type": "scatter3d",
         "x": [
          "7,02,250"
         ],
         "y": [
          "2"
         ],
         "z": [
          "District of Columbia"
         ]
        },
        {
         "hovertemplate": "State=%{z}<br>Population Covered=%{x}<br>Number of Participating Agencies=%{y}<extra></extra>",
         "legendgroup": "Florida",
         "marker": {
          "color": "#000001",
          "symbol": "circle"
         },
         "mode": "markers",
         "name": "Florida",
         "scene": "scene",
         "showlegend": true,
         "type": "scatter3d",
         "x": [
          "1,39,33,073"
         ],
         "y": [
          "159"
         ],
         "z": [
          "Florida"
         ]
        },
        {
         "hovertemplate": "State=%{z}<br>Population Covered=%{x}<br>Number of Participating Agencies=%{y}<extra></extra>",
         "legendgroup": "Georgia",
         "marker": {
          "color": "#000002",
          "symbol": "circle"
         },
         "mode": "markers",
         "name": "Georgia",
         "scene": "scene",
         "showlegend": true,
         "type": "scatter3d",
         "x": [
          "1,04,02,990"
         ],
         "y": [
          "434"
         ],
         "z": [
          "Georgia"
         ]
        },
        {
         "hovertemplate": "State=%{z}<br>Population Covered=%{x}<br>Number of Participating Agencies=%{y}<extra></extra>",
         "legendgroup": "Hawaii",
         "marker": {
          "color": "#000003",
          "symbol": "circle"
         },
         "mode": "markers",
         "name": "Hawaii",
         "scene": "scene",
         "showlegend": true,
         "type": "scatter3d",
         "x": [
          "14,46,146"
         ],
         "y": [
          "4"
         ],
         "z": [
          "Hawaii"
         ]
        },
        {
         "hovertemplate": "State=%{z}<br>Population Covered=%{x}<br>Number of Participating Agencies=%{y}<extra></extra>",
         "legendgroup": "Idaho",
         "marker": {
          "color": "#000004",
          "symbol": "circle"
         },
         "mode": "markers",
         "name": "Idaho",
         "scene": "scene",
         "showlegend": true,
         "type": "scatter3d",
         "x": [
          "19,97,727"
         ],
         "y": [
          "112"
         ],
         "z": [
          "Idaho"
         ]
        },
        {
         "hovertemplate": "State=%{z}<br>Population Covered=%{x}<br>Number of Participating Agencies=%{y}<extra></extra>",
         "legendgroup": "Illinois",
         "marker": {
          "color": "#000005",
          "symbol": "circle"
         },
         "mode": "markers",
         "name": "Illinois",
         "scene": "scene",
         "showlegend": true,
         "type": "scatter3d",
         "x": [
          "1,19,44,355"
         ],
         "y": [
          "685"
         ],
         "z": [
          "Illinois"
         ]
        },
        {
         "hovertemplate": "State=%{z}<br>Population Covered=%{x}<br>Number of Participating Agencies=%{y}<extra></extra>",
         "legendgroup": "Indiana",
         "marker": {
          "color": "#000006",
          "symbol": "circle"
         },
         "mode": "markers",
         "name": "Indiana",
         "scene": "scene",
         "showlegend": true,
         "type": "scatter3d",
         "x": [
          "60,82,277"
         ],
         "y": [
          "240"
         ],
         "z": [
          "Indiana"
         ]
        },
        {
         "hovertemplate": "State=%{z}<br>Population Covered=%{x}<br>Number of Participating Agencies=%{y}<extra></extra>",
         "legendgroup": "Iowa",
         "marker": {
          "color": "#000007",
          "symbol": "circle"
         },
         "mode": "markers",
         "name": "Iowa",
         "scene": "scene",
         "showlegend": true,
         "type": "scatter3d",
         "x": [
          "30,84,265"
         ],
         "y": [
          "265"
         ],
         "z": [
          "Iowa"
         ]
        },
        {
         "hovertemplate": "State=%{z}<br>Population Covered=%{x}<br>Number of Participating Agencies=%{y}<extra></extra>",
         "legendgroup": "Kansas",
         "marker": {
          "color": "#000008",
          "symbol": "circle"
         },
         "mode": "markers",
         "name": "Kansas",
         "scene": "scene",
         "showlegend": true,
         "type": "scatter3d",
         "x": [
          "28,84,464"
         ],
         "y": [
          "326"
         ],
         "z": [
          "Kansas"
         ]
        },
        {
         "hovertemplate": "State=%{z}<br>Population Covered=%{x}<br>Number of Participating Agencies=%{y}<extra></extra>",
         "legendgroup": "Kentucky",
         "marker": {
          "color": "#000009",
          "symbol": "circle"
         },
         "mode": "markers",
         "name": "Kentucky",
         "scene": "scene",
         "showlegend": true,
         "type": "scatter3d",
         "x": [
          "45,88,372"
         ],
         "y": [
          "452"
         ],
         "z": [
          "Kentucky"
         ]
        },
        {
         "hovertemplate": "State=%{z}<br>Population Covered=%{x}<br>Number of Participating Agencies=%{y}<extra></extra>",
         "legendgroup": "Louisiana",
         "marker": {
          "color": "#000010",
          "symbol": "circle"
         },
         "mode": "markers",
         "name": "Louisiana",
         "scene": "scene",
         "showlegend": true,
         "type": "scatter3d",
         "x": [
          "38,36,939"
         ],
         "y": [
          "151"
         ],
         "z": [
          "Louisiana"
         ]
        },
        {
         "hovertemplate": "State=%{z}<br>Population Covered=%{x}<br>Number of Participating Agencies=%{y}<extra></extra>",
         "legendgroup": "Maine",
         "marker": {
          "color": "#000001",
          "symbol": "circle"
         },
         "mode": "markers",
         "name": "Maine",
         "scene": "scene",
         "showlegend": true,
         "type": "scatter3d",
         "x": [
          "13,94,909"
         ],
         "y": [
          "127"
         ],
         "z": [
          "Maine"
         ]
        },
        {
         "hovertemplate": "State=%{z}<br>Population Covered=%{x}<br>Number of Participating Agencies=%{y}<extra></extra>",
         "legendgroup": "Maryland",
         "marker": {
          "color": "#000002",
          "symbol": "circle"
         },
         "mode": "markers",
         "name": "Maryland",
         "scene": "scene",
         "showlegend": true,
         "type": "scatter3d",
         "x": [
          "62,33,437"
         ],
         "y": [
          "147"
         ],
         "z": [
          "Maryland"
         ]
        },
        {
         "hovertemplate": "State=%{z}<br>Population Covered=%{x}<br>Number of Participating Agencies=%{y}<extra></extra>",
         "legendgroup": "Massachusetts",
         "marker": {
          "color": "#000003",
          "symbol": "circle"
         },
         "mode": "markers",
         "name": "Massachusetts",
         "scene": "scene",
         "showlegend": true,
         "type": "scatter3d",
         "x": [
          "71,17,646"
         ],
         "y": [
          "399"
         ],
         "z": [
          "Massachusetts"
         ]
        },
        {
         "hovertemplate": "State=%{z}<br>Population Covered=%{x}<br>Number of Participating Agencies=%{y}<extra></extra>",
         "legendgroup": "Michigan",
         "marker": {
          "color": "#000004",
          "symbol": "circle"
         },
         "mode": "markers",
         "name": "Michigan",
         "scene": "scene",
         "showlegend": true,
         "type": "scatter3d",
         "x": [
          "98,83,008"
         ],
         "y": [
          "601"
         ],
         "z": [
          "Michigan"
         ]
        },
        {
         "hovertemplate": "State=%{z}<br>Population Covered=%{x}<br>Number of Participating Agencies=%{y}<extra></extra>",
         "legendgroup": "Minnesota",
         "marker": {
          "color": "#000005",
          "symbol": "circle"
         },
         "mode": "markers",
         "name": "Minnesota",
         "scene": "scene",
         "showlegend": true,
         "type": "scatter3d",
         "x": [
          "57,88,088"
         ],
         "y": [
          "400"
         ],
         "z": [
          "Minnesota"
         ]
        },
        {
         "hovertemplate": "State=%{z}<br>Population Covered=%{x}<br>Number of Participating Agencies=%{y}<extra></extra>",
         "legendgroup": "Mississippi",
         "marker": {
          "color": "#000006",
          "symbol": "circle"
         },
         "mode": "markers",
         "name": "Mississippi",
         "scene": "scene",
         "showlegend": true,
         "type": "scatter3d",
         "x": [
          "16,86,116"
         ],
         "y": [
          "156"
         ],
         "z": [
          "Mississippi"
         ]
        },
        {
         "hovertemplate": "State=%{z}<br>Population Covered=%{x}<br>Number of Participating Agencies=%{y}<extra></extra>",
         "legendgroup": "Missouri",
         "marker": {
          "color": "#000007",
          "symbol": "circle"
         },
         "mode": "markers",
         "name": "Missouri",
         "scene": "scene",
         "showlegend": true,
         "type": "scatter3d",
         "x": [
          "61,33,318"
         ],
         "y": [
          "509"
         ],
         "z": [
          "Missouri"
         ]
        },
        {
         "hovertemplate": "State=%{z}<br>Population Covered=%{x}<br>Number of Participating Agencies=%{y}<extra></extra>",
         "legendgroup": "Montana",
         "marker": {
          "color": "#000008",
          "symbol": "circle"
         },
         "mode": "markers",
         "name": "Montana",
         "scene": "scene",
         "showlegend": true,
         "type": "scatter3d",
         "x": [
          "11,35,493"
         ],
         "y": [
          "110"
         ],
         "z": [
          "Montana"
         ]
        },
        {
         "hovertemplate": "State=%{z}<br>Population Covered=%{x}<br>Number of Participating Agencies=%{y}<extra></extra>",
         "legendgroup": "Nebraska",
         "marker": {
          "color": "#000009",
          "symbol": "circle"
         },
         "mode": "markers",
         "name": "Nebraska",
         "scene": "scene",
         "showlegend": true,
         "type": "scatter3d",
         "x": [
          "19,84,289"
         ],
         "y": [
          "250"
         ],
         "z": [
          "Nebraska"
         ]
        },
        {
         "hovertemplate": "State=%{z}<br>Population Covered=%{x}<br>Number of Participating Agencies=%{y}<extra></extra>",
         "legendgroup": "Nevada",
         "marker": {
          "color": "#000010",
          "symbol": "circle"
         },
         "mode": "markers",
         "name": "Nevada",
         "scene": "scene",
         "showlegend": true,
         "type": "scatter3d",
         "x": [
          "32,60,346"
         ],
         "y": [
          "57"
         ],
         "z": [
          "Nevada"
         ]
        },
        {
         "hovertemplate": "State=%{z}<br>Population Covered=%{x}<br>Number of Participating Agencies=%{y}<extra></extra>",
         "legendgroup": "New Hampshire",
         "marker": {
          "color": "#000001",
          "symbol": "circle"
         },
         "mode": "markers",
         "name": "New Hampshire",
         "scene": "scene",
         "showlegend": true,
         "type": "scatter3d",
         "x": [
          "14,05,906"
         ],
         "y": [
          "215"
         ],
         "z": [
          "New Hampshire"
         ]
        },
        {
         "hovertemplate": "State=%{z}<br>Population Covered=%{x}<br>Number of Participating Agencies=%{y}<extra></extra>",
         "legendgroup": "New Jersey",
         "marker": {
          "color": "#000002",
          "symbol": "circle"
         },
         "mode": "markers",
         "name": "New Jersey",
         "scene": "scene",
         "showlegend": true,
         "type": "scatter3d",
         "x": [
          "70,43,274"
         ],
         "y": [
          "370"
         ],
         "z": [
          "New Jersey"
         ]
        },
        {
         "hovertemplate": "State=%{z}<br>Population Covered=%{x}<br>Number of Participating Agencies=%{y}<extra></extra>",
         "legendgroup": "New Mexico",
         "marker": {
          "color": "#000003",
          "symbol": "circle"
         },
         "mode": "markers",
         "name": "New Mexico",
         "scene": "scene",
         "showlegend": true,
         "type": "scatter3d",
         "x": [
          "19,34,760"
         ],
         "y": [
          "104"
         ],
         "z": [
          "New Mexico"
         ]
        },
        {
         "hovertemplate": "State=%{z}<br>Population Covered=%{x}<br>Number of Participating Agencies=%{y}<extra></extra>",
         "legendgroup": "New York",
         "marker": {
          "color": "#000004",
          "symbol": "circle"
         },
         "mode": "markers",
         "name": "New York",
         "scene": "scene",
         "showlegend": true,
         "type": "scatter3d",
         "x": [
          "1,41,82,101"
         ],
         "y": [
          "194"
         ],
         "z": [
          "New York"
         ]
        },
        {
         "hovertemplate": "State=%{z}<br>Population Covered=%{x}<br>Number of Participating Agencies=%{y}<extra></extra>",
         "legendgroup": "North Carolina",
         "marker": {
          "color": "#000005",
          "symbol": "circle"
         },
         "mode": "markers",
         "name": "North Carolina",
         "scene": "scene",
         "showlegend": true,
         "type": "scatter3d",
         "x": [
          "1,05,43,278"
         ],
         "y": [
          "393"
         ],
         "z": [
          "North Carolina"
         ]
        },
        {
         "hovertemplate": "State=%{z}<br>Population Covered=%{x}<br>Number of Participating Agencies=%{y}<extra></extra>",
         "legendgroup": "North Dakota",
         "marker": {
          "color": "#000006",
          "symbol": "circle"
         },
         "mode": "markers",
         "name": "North Dakota",
         "scene": "scene",
         "showlegend": true,
         "type": "scatter3d",
         "x": [
          "7,91,040"
         ],
         "y": [
          "107"
         ],
         "z": [
          "North Dakota"
         ]
        },
        {
         "hovertemplate": "State=%{z}<br>Population Covered=%{x}<br>Number of Participating Agencies=%{y}<extra></extra>",
         "legendgroup": "Ohio",
         "marker": {
          "color": "#000007",
          "symbol": "circle"
         },
         "mode": "markers",
         "name": "Ohio",
         "scene": "scene",
         "showlegend": true,
         "type": "scatter3d",
         "x": [
          "1,11,18,870"
         ],
         "y": [
          "641"
         ],
         "z": [
          "Ohio"
         ]
        },
        {
         "hovertemplate": "State=%{z}<br>Population Covered=%{x}<br>Number of Participating Agencies=%{y}<extra></extra>",
         "legendgroup": "Oklahoma",
         "marker": {
          "color": "#000008",
          "symbol": "circle"
         },
         "mode": "markers",
         "name": "Oklahoma",
         "scene": "scene",
         "showlegend": true,
         "type": "scatter3d",
         "x": [
          "40,95,393"
         ],
         "y": [
          "471"
         ],
         "z": [
          "Oklahoma"
         ]
        },
        {
         "hovertemplate": "State=%{z}<br>Population Covered=%{x}<br>Number of Participating Agencies=%{y}<extra></extra>",
         "legendgroup": "Oregon",
         "marker": {
          "color": "#000009",
          "symbol": "circle"
         },
         "mode": "markers",
         "name": "Oregon",
         "scene": "scene",
         "showlegend": true,
         "type": "scatter3d",
         "x": [
          "42,19,895"
         ],
         "y": [
          "208"
         ],
         "z": [
          "Oregon"
         ]
        },
        {
         "hovertemplate": "State=%{z}<br>Population Covered=%{x}<br>Number of Participating Agencies=%{y}<extra></extra>",
         "legendgroup": "Pennsylvania",
         "marker": {
          "color": "#000010",
          "symbol": "circle"
         },
         "mode": "markers",
         "name": "Pennsylvania",
         "scene": "scene",
         "showlegend": true,
         "type": "scatter3d",
         "x": [
          "66,18,568"
         ],
         "y": [
          "202"
         ],
         "z": [
          "Pennsylvania"
         ]
        },
        {
         "hovertemplate": "State=%{z}<br>Population Covered=%{x}<br>Number of Participating Agencies=%{y}<extra></extra>",
         "legendgroup": "Rhode Island",
         "marker": {
          "color": "#000001",
          "symbol": "circle"
         },
         "mode": "markers",
         "name": "Rhode Island",
         "scene": "scene",
         "showlegend": true,
         "type": "scatter3d",
         "x": [
          "11,10,883"
         ],
         "y": [
          "48"
         ],
         "z": [
          "Rhode Island"
         ]
        },
        {
         "hovertemplate": "State=%{z}<br>Population Covered=%{x}<br>Number of Participating Agencies=%{y}<extra></extra>",
         "legendgroup": "South Carolina",
         "marker": {
          "color": "#000002",
          "symbol": "circle"
         },
         "mode": "markers",
         "name": "South Carolina",
         "scene": "scene",
         "showlegend": true,
         "type": "scatter3d",
         "x": [
          "54,72,057"
         ],
         "y": [
          "447"
         ],
         "z": [
          "South Carolina"
         ]
        },
        {
         "hovertemplate": "State=%{z}<br>Population Covered=%{x}<br>Number of Participating Agencies=%{y}<extra></extra>",
         "legendgroup": "South Dakota",
         "marker": {
          "color": "#000003",
          "symbol": "circle"
         },
         "mode": "markers",
         "name": "South Dakota",
         "scene": "scene",
         "showlegend": true,
         "type": "scatter3d",
         "x": [
          "8,32,620"
         ],
         "y": [
          "101"
         ],
         "z": [
          "South Dakota"
         ]
        },
        {
         "hovertemplate": "State=%{z}<br>Population Covered=%{x}<br>Number of Participating Agencies=%{y}<extra></extra>",
         "legendgroup": "Tennessee",
         "marker": {
          "color": "#000004",
          "symbol": "circle"
         },
         "mode": "markers",
         "name": "Tennessee",
         "scene": "scene",
         "showlegend": true,
         "type": "scatter3d",
         "x": [
          "72,20,116"
         ],
         "y": [
          "395"
         ],
         "z": [
          "Tennessee"
         ]
        },
        {
         "hovertemplate": "State=%{z}<br>Population Covered=%{x}<br>Number of Participating Agencies=%{y}<extra></extra>",
         "legendgroup": "Texas",
         "marker": {
          "color": "#000005",
          "symbol": "circle"
         },
         "mode": "markers",
         "name": "Texas",
         "scene": "scene",
         "showlegend": true,
         "type": "scatter3d",
         "x": [
          "3,10,98,882"
         ],
         "y": [
          "1,531"
         ],
         "z": [
          "Texas"
         ]
        },
        {
         "hovertemplate": "State=%{z}<br>Population Covered=%{x}<br>Number of Participating Agencies=%{y}<extra></extra>",
         "legendgroup": "Utah",
         "marker": {
          "color": "#000006",
          "symbol": "circle"
         },
         "mode": "markers",
         "name": "Utah",
         "scene": "scene",
         "showlegend": true,
         "type": "scatter3d",
         "x": [
          "34,39,646"
         ],
         "y": [
          "139"
         ],
         "z": [
          "Utah"
         ]
        },
        {
         "hovertemplate": "State=%{z}<br>Population Covered=%{x}<br>Number of Participating Agencies=%{y}<extra></extra>",
         "legendgroup": "Vermont",
         "marker": {
          "color": "#000007",
          "symbol": "circle"
         },
         "mode": "markers",
         "name": "Vermont",
         "scene": "scene",
         "showlegend": true,
         "type": "scatter3d",
         "x": [
          "6,48,493"
         ],
         "y": [
          "87"
         ],
         "z": [
          "Vermont"
         ]
        },
        {
         "hovertemplate": "State=%{z}<br>Population Covered=%{x}<br>Number of Participating Agencies=%{y}<extra></extra>",
         "legendgroup": "Virginia",
         "marker": {
          "color": "#000008",
          "symbol": "circle"
         },
         "mode": "markers",
         "name": "Virginia",
         "scene": "scene",
         "showlegend": true,
         "type": "scatter3d",
         "x": [
          "88,09,350"
         ],
         "y": [
          "413"
         ],
         "z": [
          "Virginia"
         ]
        },
        {
         "hovertemplate": "State=%{z}<br>Population Covered=%{x}<br>Number of Participating Agencies=%{y}<extra></extra>",
         "legendgroup": "Washington",
         "marker": {
          "color": "#000009",
          "symbol": "circle"
         },
         "mode": "markers",
         "name": "Washington",
         "scene": "scene",
         "showlegend": true,
         "type": "scatter3d",
         "x": [
          "79,20,519"
         ],
         "y": [
          "256"
         ],
         "z": [
          "Washington"
         ]
        },
        {
         "hovertemplate": "State=%{z}<br>Population Covered=%{x}<br>Number of Participating Agencies=%{y}<extra></extra>",
         "legendgroup": "West Virginia",
         "marker": {
          "color": "#000010",
          "symbol": "circle"
         },
         "mode": "markers",
         "name": "West Virginia",
         "scene": "scene",
         "showlegend": true,
         "type": "scatter3d",
         "x": [
          "16,55,249"
         ],
         "y": [
          "286"
         ],
         "z": [
          "West Virginia"
         ]
        },
        {
         "hovertemplate": "State=%{z}<br>Population Covered=%{x}<br>Number of Participating Agencies=%{y}<extra></extra>",
         "legendgroup": "Wisconsin",
         "marker": {
          "color": "#000001",
          "symbol": "circle"
         },
         "mode": "markers",
         "name": "Wisconsin",
         "scene": "scene",
         "showlegend": true,
         "type": "scatter3d",
         "x": [
          "58,47,605"
         ],
         "y": [
          "398"
         ],
         "z": [
          "Wisconsin"
         ]
        },
        {
         "hovertemplate": "State=%{z}<br>Population Covered=%{x}<br>Number of Participating Agencies=%{y}<extra></extra>",
         "legendgroup": "Wyoming",
         "marker": {
          "color": "#000002",
          "symbol": "circle"
         },
         "mode": "markers",
         "name": "Wyoming",
         "scene": "scene",
         "showlegend": true,
         "type": "scatter3d",
         "x": [
          "5,33,081"
         ],
         "y": [
          "55"
         ],
         "z": [
          "Wyoming"
         ]
        }
       ],
       "layout": {
        "legend": {
         "title": {
          "text": "State"
         },
         "tracegroupgap": 0
        },
        "scene": {
         "domain": {
          "x": [
           0,
           1
          ],
          "y": [
           0,
           1
          ]
         },
         "xaxis": {
          "title": {
           "text": "Population Covered"
          }
         },
         "yaxis": {
          "title": {
           "text": "Number of Participating Agencies"
          }
         },
         "zaxis": {
          "categoryarray": [
           "TOTAL",
           "Alabama",
           "Alaska",
           "Arizona",
           "Arkansas",
           "California",
           "Colorado",
           "Connecticut",
           "Delaware",
           "District of Columbia",
           "Florida",
           "Georgia",
           "Hawaii",
           "Idaho",
           "Illinois",
           "Indiana",
           "Iowa",
           "Kansas",
           "Kentucky",
           "Louisiana",
           "Maine",
           "Maryland",
           "Massachusetts",
           "Michigan",
           "Minnesota",
           "Mississippi",
           "Missouri",
           "Montana",
           "Nebraska",
           "Nevada",
           "New Hampshire",
           "New Jersey",
           "New Mexico",
           "New York",
           "North Carolina",
           "North Dakota",
           "Ohio",
           "Oklahoma",
           "Oregon",
           "Pennsylvania",
           "Rhode Island",
           "South Carolina",
           "South Dakota",
           "Tennessee",
           "Texas",
           "Utah",
           "Vermont",
           "Virginia",
           "Washington",
           "West Virginia",
           "Wisconsin",
           "Wyoming"
          ],
          "categoryorder": "array",
          "title": {
           "text": "State"
          }
         }
        },
        "template": {
         "data": {
          "candlestick": [
           {
            "decreasing": {
             "line": {
              "color": "#000033"
             }
            },
            "increasing": {
             "line": {
              "color": "#000032"
             }
            },
            "type": "candlestick"
           }
          ],
          "contour": [
           {
            "colorscale": [
             [
              0,
              "#000011"
             ],
             [
              0.1111111111111111,
              "#000012"
             ],
             [
              0.2222222222222222,
              "#000013"
             ],
             [
              0.3333333333333333,
              "#000014"
             ],
             [
              0.4444444444444444,
              "#000015"
             ],
             [
              0.5555555555555556,
              "#000016"
             ],
             [
              0.6666666666666666,
              "#000017"
             ],
             [
              0.7777777777777778,
              "#000018"
             ],
             [
              0.8888888888888888,
              "#000019"
             ],
             [
              1,
              "#000020"
             ]
            ],
            "type": "contour"
           }
          ],
          "contourcarpet": [
           {
            "colorscale": [
             [
              0,
              "#000011"
             ],
             [
              0.1111111111111111,
              "#000012"
             ],
             [
              0.2222222222222222,
              "#000013"
             ],
             [
              0.3333333333333333,
              "#000014"
             ],
             [
              0.4444444444444444,
              "#000015"
             ],
             [
              0.5555555555555556,
              "#000016"
             ],
             [
              0.6666666666666666,
              "#000017"
             ],
             [
              0.7777777777777778,
              "#000018"
             ],
             [
              0.8888888888888888,
              "#000019"
             ],
             [
              1,
              "#000020"
             ]
            ],
            "type": "contourcarpet"
           }
          ],
          "heatmap": [
           {
            "colorscale": [
             [
              0,
              "#000011"
             ],
             [
              0.1111111111111111,
              "#000012"
             ],
             [
              0.2222222222222222,
              "#000013"
             ],
             [
              0.3333333333333333,
              "#000014"
             ],
             [
              0.4444444444444444,
              "#000015"
             ],
             [
              0.5555555555555556,
              "#000016"
             ],
             [
              0.6666666666666666,
              "#000017"
             ],
             [
              0.7777777777777778,
              "#000018"
             ],
             [
              0.8888888888888888,
              "#000019"
             ],
             [
              1,
              "#000020"
             ]
            ],
            "type": "heatmap"
           }
          ],
          "histogram2d": [
           {
            "colorscale": [
             [
              0,
              "#000011"
             ],
             [
              0.1111111111111111,
              "#000012"
             ],
             [
              0.2222222222222222,
              "#000013"
             ],
             [
              0.3333333333333333,
              "#000014"
             ],
             [
              0.4444444444444444,
              "#000015"
             ],
             [
              0.5555555555555556,
              "#000016"
             ],
             [
              0.6666666666666666,
              "#000017"
             ],
             [
              0.7777777777777778,
              "#000018"
             ],
             [
              0.8888888888888888,
              "#000019"
             ],
             [
              1,
              "#000020"
             ]
            ],
            "type": "histogram2d"
           }
          ],
          "icicle": [
           {
            "textfont": {
             "color": "white"
            },
            "type": "icicle"
           }
          ],
          "sankey": [
           {
            "textfont": {
             "color": "#000036"
            },
            "type": "sankey"
           }
          ],
          "scatter": [
           {
            "marker": {
             "line": {
              "width": 0
             }
            },
            "type": "scatter"
           }
          ],
          "table": [
           {
            "cells": {
             "fill": {
              "color": "#000038"
             },
             "font": {
              "color": "#000037"
             },
             "line": {
              "color": "#000039"
             }
            },
            "header": {
             "fill": {
              "color": "#000040"
             },
             "font": {
              "color": "#000036"
             },
             "line": {
              "color": "#000039"
             }
            },
            "type": "table"
           }
          ],
          "waterfall": [
           {
            "connector": {
             "line": {
              "color": "#000036",
              "width": 2
             }
            },
            "decreasing": {
             "marker": {
              "color": "#000033"
             }
            },
            "increasing": {
             "marker": {
              "color": "#000032"
             }
            },
            "totals": {
             "marker": {
              "color": "#000034"
             }
            },
            "type": "waterfall"
           }
          ]
         },
         "layout": {
          "coloraxis": {
           "colorscale": [
            [
             0,
             "#000011"
            ],
            [
             0.1111111111111111,
             "#000012"
            ],
            [
             0.2222222222222222,
             "#000013"
            ],
            [
             0.3333333333333333,
             "#000014"
            ],
            [
             0.4444444444444444,
             "#000015"
            ],
            [
             0.5555555555555556,
             "#000016"
            ],
            [
             0.6666666666666666,
             "#000017"
            ],
            [
             0.7777777777777778,
             "#000018"
            ],
            [
             0.8888888888888888,
             "#000019"
            ],
            [
             1,
             "#000020"
            ]
           ]
          },
          "colorscale": {
           "diverging": [
            [
             0,
             "#000021"
            ],
            [
             0.1,
             "#000022"
            ],
            [
             0.2,
             "#000023"
            ],
            [
             0.3,
             "#000024"
            ],
            [
             0.4,
             "#000025"
            ],
            [
             0.5,
             "#000026"
            ],
            [
             0.6,
             "#000027"
            ],
            [
             0.7,
             "#000028"
            ],
            [
             0.8,
             "#000029"
            ],
            [
             0.9,
             "#000030"
            ],
            [
             1,
             "#000031"
            ]
           ],
           "sequential": [
            [
             0,
             "#000011"
            ],
            [
             0.1111111111111111,
             "#000012"
            ],
            [
             0.2222222222222222,
             "#000013"
            ],
            [
             0.3333333333333333,
             "#000014"
            ],
            [
             0.4444444444444444,
             "#000015"
            ],
            [
             0.5555555555555556,
             "#000016"
            ],
            [
             0.6666666666666666,
             "#000017"
            ],
            [
             0.7777777777777778,
             "#000018"
            ],
            [
             0.8888888888888888,
             "#000019"
            ],
            [
             1,
             "#000020"
            ]
           ],
           "sequentialminus": [
            [
             0,
             "#000011"
            ],
            [
             0.1111111111111111,
             "#000012"
            ],
            [
             0.2222222222222222,
             "#000013"
            ],
            [
             0.3333333333333333,
             "#000014"
            ],
            [
             0.4444444444444444,
             "#000015"
            ],
            [
             0.5555555555555556,
             "#000016"
            ],
            [
             0.6666666666666666,
             "#000017"
            ],
            [
             0.7777777777777778,
             "#000018"
            ],
            [
             0.8888888888888888,
             "#000019"
            ],
            [
             1,
             "#000020"
            ]
           ]
          },
          "colorway": [
           "#000001",
           "#000002",
           "#000003",
           "#000004",
           "#000005",
           "#000006",
           "#000007",
           "#000008",
           "#000009",
           "#000010"
          ]
         }
        },
        "title": {
         "text": "3D Scatter: Population vs Agencies by State"
        }
       }
      },
      "image/png": "[encoded data removed]"
     },
     "metadata": {},
     "output_type": "display_data"
    }
   ],
   "source": [
    "import plotly.express as px\n",
    "\n",
    "# Step 1: Clean column names - remove newlines & normalize multiple spaces\n",
    "Participation_by_State.columns = (\n",
    "    Participation_by_State.columns\n",
    "    .str.replace(\"\\n\", \" \")         # replace newlines with spaces\n",
    "    .str.replace(r\"\\s+\", \" \", regex=True)  # collapse multiple spaces into one\n",
    "    .str.strip()                    # remove leading/trailing spaces\n",
    ")\n",
    "\n",
    "# Step 2: Show cleaned column names\n",
    "print(\"Cleaned Columns:\", Participation_by_State.columns.tolist())\n",
    "\n",
    "# Step 3: 3D Scatter Plot using cleaned column names\n",
    "fig = px.scatter_3d(\n",
    "    Participation_by_State,\n",
    "    x=\"Population Covered\",              # now matches cleaned column\n",
    "    y=\"Number of Participating Agencies\",\n",
    "    z=\"State\",                           # categorical (text)\n",
    "    color=\"State\",\n",
    "    title=\"3D Scatter: Population vs Agencies by State\"\n",
    ")\n",
    "\n",
    "fig.show()\n"
   ]
  },
  {
   "cell_type": "code",
   "execution_count": 61,
   "id": "dc6a4222-8840-4af9-8c9a-1ade2a26153f",
   "metadata": {},
   "outputs": [
    {
     "data": {
      "image/png": "[encoded data removed]",
      "text/plain": [
       "<Figure size 1200x600 with 1 Axes>"
      ]
     },
     "metadata": {},
     "output_type": "display_data"
    },
    {
     "data": {
      "text/html": [
       "<div>            <script src=\"https://cdnjs.cloudflare.com/ajax/libs/mathjax/2.7.5/MathJax.js?config=TeX-AMS-MML_SVG\"></script><script type=\"text/javascript\">if (window.MathJax && window.MathJax.Hub && window.MathJax.Hub.Config) {window.MathJax.Hub.Config({SVG: {font: \"STIX-Web\"}});}</script>                    <div id=\"98b1dd2f-feba-49d0-a43d-3b68b45162e4\" class=\"plotly-graph-div\" style=\"height:525px; width:100%;\"></div>            <script type=\"text/javascript\">                window.PLOTLYENV=window.PLOTLYENV || {};                                if (document.getElementById(\"98b1dd2f-feba-49d0-a43d-3b68b45162e4\")) {                    Plotly.newPlot(                        \"98b1dd2f-feba-49d0-a43d-3b68b45162e4\",                        [{\"hovertemplate\":\"number of participating agencies=%{x}\\u003cbr\\u003epopulation covered=%{marker.size}\\u003cbr\\u003estate=%{text}\\u003cextra\\u003e\\u003c\\u002fextra\\u003e\",\"legendgroup\":\"\",\"marker\":{\"color\":\"#636efa\",\"size\":{\"dtype\":\"i4\",\"bdata\":\"Ls5MAJjgBgAn\\u002fFAAVTkuAHXWyQHXPVoAvRM4AA0NEAAqtwoAEZrUAK68ngACERYAn3seAKNBtgDlzlwA6Q8vAHADLABUA0YAC4w6AN1IFQBdHV8ATptsAIDNlgC4UVgAZLoZAEaWXQCFUxEAIUceALq\\u002fMQDScxUAynhrAKiFHQDVZtgAruCgAAASDAAWqakAoX0+APdjQADI\\u002fWQAY\\u002fMQADl\\u002fUwBstAwAlCtuAAKI2gEefDQALeUJAIZrhgCH23gA0UEZADU6WQBZIggA\"},\"sizemode\":\"area\",\"sizeref\":77747.205,\"symbol\":\"circle\"},\"mode\":\"markers+text\",\"name\":\"\",\"orientation\":\"v\",\"showlegend\":false,\"text\":[\"Alabama\",\"Alaska\",\"Arizona\",\"Arkansas\",\"California\",\"Colorado\",\"Connecticut\",\"Delaware\",\"District of Columbia\",\"Florida\",\"Georgia\",\"Hawaii\",\"Idaho\",\"Illinois\",\"Indiana\",\"Iowa\",\"Kansas\",\"Kentucky\",\"Louisiana\",\"Maine\",\"Maryland\",\"Massachusetts\",\"Michigan\",\"Minnesota\",\"Mississippi\",\"Missouri\",\"Montana\",\"Nebraska\",\"Nevada\",\"New Hampshire\",\"New Jersey\",\"New Mexico\",\"New York\",\"North Carolina\",\"North Dakota\",\"Ohio\",\"Oklahoma\",\"Oregon\",\"Pennsylvania\",\"Rhode Island\",\"South Carolina\",\"South Dakota\",\"Tennessee\",\"Texas\",\"Utah\",\"Vermont\",\"Virginia\",\"Washington\",\"West Virginia\",\"Wisconsin\",\"Wyoming\"],\"x\":{\"dtype\":\"i2\",\"bdata\":\"ogEgAFwAaQGOAuIAbAA\\u002fAAIAnwCyAQQAcACtAvAACQFGAcQBlwB\\u002fAJMAjwFZApABnAD9AW4A+gA5ANcAcgFoAMIAiQFrAIEC1wHQAMoAMAC\\u002fAWUAiwH7BYsAVwCdAQABHgGOATcA\"},\"xaxis\":\"x\",\"y\":{\"dtype\":\"i4\",\"bdata\":\"Ls5MAJjgBgAn\\u002fFAAVTkuAHXWyQHXPVoAvRM4AA0NEAAqtwoAEZrUAK68ngACERYAn3seAKNBtgDlzlwA6Q8vAHADLABUA0YAC4w6AN1IFQBdHV8ATptsAIDNlgC4UVgAZLoZAEaWXQCFUxEAIUceALq\\u002fMQDScxUAynhrAKiFHQDVZtgAruCgAAASDAAWqakAoX0+APdjQADI\\u002fWQAY\\u002fMQADl\\u002fUwBstAwAlCtuAAKI2gEefDQALeUJAIZrhgCH23gA0UEZADU6WQBZIggA\"},\"yaxis\":\"y\",\"type\":\"scatter\",\"textposition\":\"top center\"}],                        {\"template\":{\"data\":{\"barpolar\":[{\"marker\":{\"line\":{\"color\":\"white\",\"width\":0.5},\"pattern\":{\"fillmode\":\"overlay\",\"size\":10,\"solidity\":0.2}},\"type\":\"barpolar\"}],\"bar\":[{\"error_x\":{\"color\":\"#2a3f5f\"},\"error_y\":{\"color\":\"#2a3f5f\"},\"marker\":{\"line\":{\"color\":\"white\",\"width\":0.5},\"pattern\":{\"fillmode\":\"overlay\",\"size\":10,\"solidity\":0.2}},\"type\":\"bar\"}],\"carpet\":[{\"aaxis\":{\"endlinecolor\":\"#2a3f5f\",\"gridcolor\":\"#C8D4E3\",\"linecolor\":\"#C8D4E3\",\"minorgridcolor\":\"#C8D4E3\",\"startlinecolor\":\"#2a3f5f\"},\"baxis\":{\"endlinecolor\":\"#2a3f5f\",\"gridcolor\":\"#C8D4E3\",\"linecolor\":\"#C8D4E3\",\"minorgridcolor\":\"#C8D4E3\",\"startlinecolor\":\"#2a3f5f\"},\"type\":\"carpet\"}],\"choropleth\":[{\"colorbar\":{\"outlinewidth\":0,\"ticks\":\"\"},\"type\":\"choropleth\"}],\"contourcarpet\":[{\"colorbar\":{\"outlinewidth\":0,\"ticks\":\"\"},\"type\":\"contourcarpet\"}],\"contour\":[{\"colorbar\":{\"outlinewidth\":0,\"ticks\":\"\"},\"colorscale\":[[0.0,\"#0d0887\"],[0.1111111111111111,\"#46039f\"],[0.2222222222222222,\"#7201a8\"],[0.3333333333333333,\"#9c179e\"],[0.4444444444444444,\"#bd3786\"],[0.5555555555555556,\"#d8576b\"],[0.6666666666666666,\"#ed7953\"],[0.7777777777777778,\"#fb9f3a\"],[0.8888888888888888,\"#fdca26\"],[1.0,\"#f0f921\"]],\"type\":\"contour\"}],\"heatmap\":[{\"colorbar\":{\"outlinewidth\":0,\"ticks\":\"\"},\"colorscale\":[[0.0,\"#0d0887\"],[0.1111111111111111,\"#46039f\"],[0.2222222222222222,\"#7201a8\"],[0.3333333333333333,\"#9c179e\"],[0.4444444444444444,\"#bd3786\"],[0.5555555555555556,\"#d8576b\"],[0.6666666666666666,\"#ed7953\"],[0.7777777777777778,\"#fb9f3a\"],[0.8888888888888888,\"#fdca26\"],[1.0,\"#f0f921\"]],\"type\":\"heatmap\"}],\"histogram2dcontour\":[{\"colorbar\":{\"outlinewidth\":0,\"ticks\":\"\"},\"colorscale\":[[0.0,\"#0d0887\"],[0.1111111111111111,\"#46039f\"],[0.2222222222222222,\"#7201a8\"],[0.3333333333333333,\"#9c179e\"],[0.4444444444444444,\"#bd3786\"],[0.5555555555555556,\"#d8576b\"],[0.6666666666666666,\"#ed7953\"],[0.7777777777777778,\"#fb9f3a\"],[0.8888888888888888,\"#fdca26\"],[1.0,\"#f0f921\"]],\"type\":\"histogram2dcontour\"}],\"histogram2d\":[{\"colorbar\":{\"outlinewidth\":0,\"ticks\":\"\"},\"colorscale\":[[0.0,\"#0d0887\"],[0.1111111111111111,\"#46039f\"],[0.2222222222222222,\"#7201a8\"],[0.3333333333333333,\"#9c179e\"],[0.4444444444444444,\"#bd3786\"],[0.5555555555555556,\"#d8576b\"],[0.6666666666666666,\"#ed7953\"],[0.7777777777777778,\"#fb9f3a\"],[0.8888888888888888,\"#fdca26\"],[1.0,\"#f0f921\"]],\"type\":\"histogram2d\"}],\"histogram\":[{\"marker\":{\"pattern\":{\"fillmode\":\"overlay\",\"size\":10,\"solidity\":0.2}},\"type\":\"histogram\"}],\"mesh3d\":[{\"colorbar\":{\"outlinewidth\":0,\"ticks\":\"\"},\"type\":\"mesh3d\"}],\"parcoords\":[{\"line\":{\"colorbar\":{\"outlinewidth\":0,\"ticks\":\"\"}},\"type\":\"parcoords\"}],\"pie\":[{\"automargin\":true,\"type\":\"pie\"}],\"scatter3d\":[{\"line\":{\"colorbar\":{\"outlinewidth\":0,\"ticks\":\"\"}},\"marker\":{\"colorbar\":{\"outlinewidth\":0,\"ticks\":\"\"}},\"type\":\"scatter3d\"}],\"scattercarpet\":[{\"marker\":{\"colorbar\":{\"outlinewidth\":0,\"ticks\":\"\"}},\"type\":\"scattercarpet\"}],\"scattergeo\":[{\"marker\":{\"colorbar\":{\"outlinewidth\":0,\"ticks\":\"\"}},\"type\":\"scattergeo\"}],\"scattergl\":[{\"marker\":{\"colorbar\":{\"outlinewidth\":0,\"ticks\":\"\"}},\"type\":\"scattergl\"}],\"scattermapbox\":[{\"marker\":{\"colorbar\":{\"outlinewidth\":0,\"ticks\":\"\"}},\"type\":\"scattermapbox\"}],\"scattermap\":[{\"marker\":{\"colorbar\":{\"outlinewidth\":0,\"ticks\":\"\"}},\"type\":\"scattermap\"}],\"scatterpolargl\":[{\"marker\":{\"colorbar\":{\"outlinewidth\":0,\"ticks\":\"\"}},\"type\":\"scatterpolargl\"}],\"scatterpolar\":[{\"marker\":{\"colorbar\":{\"outlinewidth\":0,\"ticks\":\"\"}},\"type\":\"scatterpolar\"}],\"scatter\":[{\"fillpattern\":{\"fillmode\":\"overlay\",\"size\":10,\"solidity\":0.2},\"type\":\"scatter\"}],\"scatterternary\":[{\"marker\":{\"colorbar\":{\"outlinewidth\":0,\"ticks\":\"\"}},\"type\":\"scatterternary\"}],\"surface\":[{\"colorbar\":{\"outlinewidth\":0,\"ticks\":\"\"},\"colorscale\":[[0.0,\"#0d0887\"],[0.1111111111111111,\"#46039f\"],[0.2222222222222222,\"#7201a8\"],[0.3333333333333333,\"#9c179e\"],[0.4444444444444444,\"#bd3786\"],[0.5555555555555556,\"#d8576b\"],[0.6666666666666666,\"#ed7953\"],[0.7777777777777778,\"#fb9f3a\"],[0.8888888888888888,\"#fdca26\"],[1.0,\"#f0f921\"]],\"type\":\"surface\"}],\"table\":[{\"cells\":{\"fill\":{\"color\":\"#EBF0F8\"},\"line\":{\"color\":\"white\"}},\"header\":{\"fill\":{\"color\":\"#C8D4E3\"},\"line\":{\"color\":\"white\"}},\"type\":\"table\"}]},\"layout\":{\"annotationdefaults\":{\"arrowcolor\":\"#2a3f5f\",\"arrowhead\":0,\"arrowwidth\":1},\"autotypenumbers\":\"strict\",\"coloraxis\":{\"colorbar\":{\"outlinewidth\":0,\"ticks\":\"\"}},\"colorscale\":{\"diverging\":[[0,\"#8e0152\"],[0.1,\"#c51b7d\"],[0.2,\"#de77ae\"],[0.3,\"#f1b6da\"],[0.4,\"#fde0ef\"],[0.5,\"#f7f7f7\"],[0.6,\"#e6f5d0\"],[0.7,\"#b8e186\"],[0.8,\"#7fbc41\"],[0.9,\"#4d9221\"],[1,\"#276419\"]],\"sequential\":[[0.0,\"#0d0887\"],[0.1111111111111111,\"#46039f\"],[0.2222222222222222,\"#7201a8\"],[0.3333333333333333,\"#9c179e\"],[0.4444444444444444,\"#bd3786\"],[0.5555555555555556,\"#d8576b\"],[0.6666666666666666,\"#ed7953\"],[0.7777777777777778,\"#fb9f3a\"],[0.8888888888888888,\"#fdca26\"],[1.0,\"#f0f921\"]],\"sequentialminus\":[[0.0,\"#0d0887\"],[0.1111111111111111,\"#46039f\"],[0.2222222222222222,\"#7201a8\"],[0.3333333333333333,\"#9c179e\"],[0.4444444444444444,\"#bd3786\"],[0.5555555555555556,\"#d8576b\"],[0.6666666666666666,\"#ed7953\"],[0.7777777777777778,\"#fb9f3a\"],[0.8888888888888888,\"#fdca26\"],[1.0,\"#f0f921\"]]},\"colorway\":[\"#636efa\",\"#EF553B\",\"#00cc96\",\"#ab63fa\",\"#FFA15A\",\"#19d3f3\",\"#FF6692\",\"#B6E880\",\"#FF97FF\",\"#FECB52\"],\"font\":{\"color\":\"#2a3f5f\"},\"geo\":{\"bgcolor\":\"white\",\"lakecolor\":\"white\",\"landcolor\":\"white\",\"showlakes\":true,\"showland\":true,\"subunitcolor\":\"#C8D4E3\"},\"hoverlabel\":{\"align\":\"left\"},\"hovermode\":\"closest\",\"mapbox\":{\"style\":\"light\"},\"paper_bgcolor\":\"white\",\"plot_bgcolor\":\"white\",\"polar\":{\"angularaxis\":{\"gridcolor\":\"#EBF0F8\",\"linecolor\":\"#EBF0F8\",\"ticks\":\"\"},\"bgcolor\":\"white\",\"radialaxis\":{\"gridcolor\":\"#EBF0F8\",\"linecolor\":\"#EBF0F8\",\"ticks\":\"\"}},\"scene\":{\"xaxis\":{\"backgroundcolor\":\"white\",\"gridcolor\":\"#DFE8F3\",\"gridwidth\":2,\"linecolor\":\"#EBF0F8\",\"showbackground\":true,\"ticks\":\"\",\"zerolinecolor\":\"#EBF0F8\"},\"yaxis\":{\"backgroundcolor\":\"white\",\"gridcolor\":\"#DFE8F3\",\"gridwidth\":2,\"linecolor\":\"#EBF0F8\",\"showbackground\":true,\"ticks\":\"\",\"zerolinecolor\":\"#EBF0F8\"},\"zaxis\":{\"backgroundcolor\":\"white\",\"gridcolor\":\"#DFE8F3\",\"gridwidth\":2,\"linecolor\":\"#EBF0F8\",\"showbackground\":true,\"ticks\":\"\",\"zerolinecolor\":\"#EBF0F8\"}},\"shapedefaults\":{\"line\":{\"color\":\"#2a3f5f\"}},\"ternary\":{\"aaxis\":{\"gridcolor\":\"#DFE8F3\",\"linecolor\":\"#A2B1C6\",\"ticks\":\"\"},\"baxis\":{\"gridcolor\":\"#DFE8F3\",\"linecolor\":\"#A2B1C6\",\"ticks\":\"\"},\"bgcolor\":\"white\",\"caxis\":{\"gridcolor\":\"#DFE8F3\",\"linecolor\":\"#A2B1C6\",\"ticks\":\"\"}},\"title\":{\"x\":0.05},\"xaxis\":{\"automargin\":true,\"gridcolor\":\"#EBF0F8\",\"linecolor\":\"#EBF0F8\",\"ticks\":\"\",\"title\":{\"standoff\":15},\"zerolinecolor\":\"#EBF0F8\",\"zerolinewidth\":2},\"yaxis\":{\"automargin\":true,\"gridcolor\":\"#EBF0F8\",\"linecolor\":\"#EBF0F8\",\"ticks\":\"\",\"title\":{\"standoff\":15},\"zerolinecolor\":\"#EBF0F8\",\"zerolinewidth\":2}}},\"xaxis\":{\"anchor\":\"y\",\"domain\":[0.0,1.0],\"title\":{\"text\":\"number of participating agencies\"}},\"yaxis\":{\"anchor\":\"x\",\"domain\":[0.0,1.0],\"title\":{\"text\":\"population covered\"}},\"legend\":{\"tracegroupgap\":0,\"itemsizing\":\"constant\"},\"title\":{\"text\":\"Agencies vs Population Covered (State-wise)\"}},                        {\"responsive\": true}                    ).then(function(){\n",
       "                            \n",
       "var gd = document.getElementById('98b1dd2f-feba-49d0-a43d-3b68b45162e4');\n",
       "var x = new MutationObserver(function (mutations, observer) {{\n",
       "        var display = window.getComputedStyle(gd).display;\n",
       "        if (!display || display === 'none') {{\n",
       "            console.log([gd, 'removed!']);\n",
       "            Plotly.purge(gd);\n",
       "            observer.disconnect();\n",
       "        }}\n",
       "}});\n",
       "\n",
       "// Listen for the removal of the full notebook cells\n",
       "var notebookContainer = gd.closest('#notebook-container');\n",
       "if (notebookContainer) {{\n",
       "    x.observe(notebookContainer, {childList: true});\n",
       "}}\n",
       "\n",
       "// Listen for the clearing of the current output cell\n",
       "var outputEl = gd.closest('.output');\n",
       "if (outputEl) {{\n",
       "    x.observe(outputEl, {childList: true});\n",
       "}}\n",
       "\n",
       "                        })                };            </script>        </div>"
      ]
     },
     "metadata": {},
     "output_type": "display_data"
    }
   ],
   "source": [
    "import pandas as pd\n",
    "import matplotlib.pyplot as plt\n",
    "import seaborn as sns\n",
    "import plotly.express as px\n",
    "\n",
    "# Load data\n",
    "Participation_by_State = pd.read_csv(\"NIBRS_Table_2_Participation_by_State_2024.csv\")\n",
    "\n",
    "# Clean column names (remove extra spaces, lowercase)\n",
    "Participation_by_State.columns = (\n",
    "    Participation_by_State.columns.str.strip().str.replace(r\"\\s+\", \" \", regex=True).str.lower()\n",
    ")\n",
    "\n",
    "# Drop \"total\" row if it exists\n",
    "Participation_by_State = Participation_by_State[Participation_by_State[\"state\"].str.lower() != \"total\"]\n",
    "\n",
    "# Convert numeric columns\n",
    "Participation_by_State[\"population covered\"] = pd.to_numeric(\n",
    "    Participation_by_State[\"population covered\"].astype(str).str.replace(\",\",\"\"), errors=\"coerce\"\n",
    ")\n",
    "Participation_by_State[\"number of participating agencies\"] = pd.to_numeric(\n",
    "    Participation_by_State[\"number of participating agencies\"].astype(str).str.replace(\",\",\"\"), errors=\"coerce\"\n",
    ")\n",
    "\n",
    "# --- 1. Barplot: Top 10 states by Population Covered ---\n",
    "top10_states = Participation_by_State.nlargest(10, \"population covered\")\n",
    "plt.figure(figsize=(12,6))\n",
    "sns.barplot(\n",
    "    data=top10_states, \n",
    "    x=\"state\", \n",
    "    y=\"population covered\", \n",
    "    hue=\"state\",  # fixes palette warning\n",
    "    legend=False,\n",
    "    palette=\"viridis\"\n",
    ")\n",
    "plt.title(\"Top 10 States by Population Covered in NIBRS (2024)\", fontsize=14)\n",
    "plt.xticks(rotation=45)\n",
    "plt.ylabel(\"Population Covered\")\n",
    "plt.xlabel(\"State\")\n",
    "plt.tight_layout()\n",
    "plt.show()\n",
    "\n",
    "# --- 2. Scatter: Agencies vs Population Covered ---\n",
    "fig_scatter = px.scatter(\n",
    "    Participation_by_State,\n",
    "    x=\"number of participating agencies\",\n",
    "    y=\"population covered\",\n",
    "    text=\"state\",\n",
    "    size=\"population covered\",\n",
    "    title=\"Agencies vs Population Covered (State-wise)\",\n",
    "    template=\"plotly_white\"\n",
    ")\n",
    "fig_scatter.update_traces(textposition=\"top center\")\n",
    "fig_scatter.show()\n",
    "\n",
    "# --- 3. Choropleth Map (if 'state code' exists) ---\n",
    "if \"state code\" in Participation_by_State.columns:\n",
    "    fig_choro = px.choropleth(\n",
    "        Participation_by_State,\n",
    "        locations=\"state code\",\n",
    "        color=\"population covered\",\n",
    "        scope=\"usa\",\n",
    "        color_continuous_scale=\"Viridis\",\n",
    "        title=\"US States by Population Covered (2024)\"\n",
    "    )\n",
    "    fig_choro.show()\n"
   ]
  },
  {
   "cell_type": "code",
   "execution_count": 58,
   "id": "e6c5dcbc-bfee-4b28-8788-ad2ee6461aa3",
   "metadata": {
    "scrolled": true
   },
   "outputs": [
    {
     "name": "stdout",
     "output_type": "stream",
     "text": [
      "['State', 'Number of \\nParticipating \\nAgencies', 'Population \\nCovered']\n"
     ]
    }
   ],
   "source": [
    "print(Participation_by_State.columns.tolist())\n"
   ]
  },
  {
   "cell_type": "code",
   "execution_count": 59,
   "id": "7df9b776-e4c6-4a4b-beb0-cbd982664ff1",
   "metadata": {},
   "outputs": [
    {
     "name": "stdout",
     "output_type": "stream",
     "text": [
      "['state', 'number of  participating  agencies', 'population  covered']\n"
     ]
    }
   ],
   "source": [
    "Participation_by_State.columns = Participation_by_State.columns.str.strip().str.replace(\"\\n\",\" \").str.lower()\n",
    "print(Participation_by_State.columns.tolist())\n"
   ]
  },
  {
   "cell_type": "code",
   "execution_count": 62,
   "id": "dcf276b8-d449-4e30-85c9-f236daa223bf",
   "metadata": {},
   "outputs": [
    {
     "name": "stdout",
     "output_type": "stream",
     "text": [
      "Collecting squarify\n",
      "  Downloading squarify-0.4.4-py3-none-any.whl.metadata (600 bytes)\n",
      "Downloading squarify-0.4.4-py3-none-any.whl (4.1 kB)\n",
      "Installing collected packages: squarify\n",
      "Successfully installed squarify-0.4.4\n",
      "Note: you may need to restart the kernel to use updated packages.\n"
     ]
    }
   ],
   "source": [
    "pip install squarify"
   ]
  },
  {
   "cell_type": "code",
   "execution_count": null,
   "id": "879e8be1-0a5b-4577-a3dd-7c4f80e35ebe",
   "metadata": {},
   "outputs": [],
   "source": []
  }
 ],
 "metadata": {
  "kernelspec": {
   "display_name": "Python 3 (ipykernel)",
   "language": "python",
   "name": "python3"
  },
  "language_info": {
   "codemirror_mode": {
    "name": "ipython",
    "version": 3
   },
   "file_extension": ".py",
   "mimetype": "text/x-python",
   "name": "python",
   "nbconvert_exporter": "python",
   "pygments_lexer": "ipython3",
   "version": "3.13.5"
  }
 },
 "nbformat": 4,
 "nbformat_minor": 5
}
