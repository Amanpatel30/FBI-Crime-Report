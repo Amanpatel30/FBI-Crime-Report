{
 "cells": [
  {
   "cell_type": "code",
   "execution_count": 24,
   "id": "382d96a6-cb67-41fe-be79-4a877bf64d62",
   "metadata": {},
   "outputs": [],
   "source": [
    "import pandas as pd"
   ]
  },
  {
   "cell_type": "code",
   "execution_count": 29,
   "id": "b6c5415c-46fb-4cf1-8be1-d8b5a5c10566",
   "metadata": {},
   "outputs": [],
   "source": [
    "Participation_by_State = pd.read_csv(\"NIBRS_Table_2_Participation_by_State_2024.csv\", encoding='latin1')\n",
    "Incidents_Offenses = pd.read_csv(\"NIBRS_Table_3_Incidents_Offenses_Victims_and_Known_Offenders_by_Offense_Category_2024.csv\", encoding='latin1')\n",
    "Victims = pd.read_csv(\"NIBRS_Table_4_Victims_Adult_and_Juvenile_Age_Category_by_Offense_Category_2024.csv\", encoding='latin1')\n",
    "Age_Victims = pd.read_csv(\"NIBRS_Table_5_Victims_Age_by_Offense_Category_2024.csv\", encoding='latin1')\n",
    "Sex_Victims = pd.read_csv(\"NIBRS_Table_6_Victims_Sex_by_Offense_Category_2024.csv\", encoding='latin1')\n",
    "Race_Victims = pd.read_csv(\"NIBRS_Table_7_Victims_Race_by_Offense_Category_2024.csv\", encoding='latin1')\n",
    "Offenders_AJ = pd.read_csv(\"NIBRS_Table_8_Offenders_Adult_and_Juvenile_Age_Category_by_Offense_Category_2024.csv\", encoding='latin1')\n",
    "Offenders_Age = pd.read_csv(\"NIBRS_Table_9_Offenders_Age_by_Offense_Category_2024.csv\", encoding='latin1')\n",
    "Offenders_Sex = pd.read_csv(\"NIBRS_Table_10_Offenders_Sex_by_Offense_Category_2024.csv\", encoding='latin1')\n",
    "Offenders_Race = pd.read_csv(\"NIBRS_Table_11_Offenders_Race_by_Offense_Category_2024.csv\", encoding='latin1')\n",
    "Arrestees_AJ = pd.read_csv(\"NIBRS_Table_12_Arrestees_Adult_and_Juvenile_Age_Category_by_Arrest_Offense_Category_2024.csv\", encoding='latin1')\n",
    "Arrestees_Age = pd.read_csv(\"NIBRS_Table_13_Arrestees_Age_by_Arrest_Offense_Category_2024.csv\", encoding='latin1')\n",
    "Arrestees_Sex = pd.read_csv(\"NIBRS_Table_14_Arrestees_Sex_by_Arrest_Offense_Category_2024.csv\", encoding='latin1')\n",
    "Arrestees_Race = pd.read_csv(\"NIBRS_Table_15_Arrestees_Race_by_Arrest_Offense_Category_2024.csv\", encoding='latin1')\n",
    "Victim_Offender_Relationship = pd.read_csv(\"NIBRS_Table_16_Relationship_of_Victims_to_Offenders_by_Offense_Category_2024.csv\", encoding='latin1')\n",
    "Crimes_Persons_Location = pd.read_csv(\"NIBRS_Table_17_Crimes_Against_Persons_Offenses_Offense_Category_by_Location_2024.csv\", encoding='latin1')\n",
    "Crimes_Property_Location = pd.read_csv(\"NIBRS_Table_18_Crimes_Against_Property_Offenses_Offense_Category_by_Location_2024.csv\", encoding='latin1')\n",
    "Crimes_Society_Location = pd.read_csv(\"NIBRS_Table_19_Crimes_Against_Society_Offenses_Offense_Category_by_Location_2024.csv\", encoding='latin1')\n",
    "Crimes_Persons_Time = pd.read_csv(\"NIBRS_Table_20_Crimes_Against_Persons_Incidents_Offense_Category_by_Time_of_Day_2024.csv\", encoding='latin1')\n",
    "Crimes_Property_Time = pd.read_csv(\"NIBRS_Table_21_Crimes_Against_Property_Incidents_Offense_Category_by_Time_of_Day_2024.csv\", encoding='latin1')\n",
    "Crimes_Society_Time = pd.read_csv(\"NIBRS_Table_22_Crimes_Against_Society_Incidents_Offense_Category_by_Time_of_Day_2024.csv\", encoding='latin1')\n",
    "Weapon_Use = pd.read_csv(\"NIBRS_Table_23_Offenses_Involving_Weapon_Use_Off_Cat_by_Type_of_Weapon_Force_Involved_2024.csv\", encoding='latin1')\n",
    "Murder_Assault_Circumstances = pd.read_csv(\"NIBRS_Table_24_Murder_and_Nonnegligent_Manslaughter_and_Aggravated_Assault_Victims_Off_Type_by_Circumst_2024.csv\", encoding='latin1')\n",
    "Justifiable_Homicide = pd.read_csv(\"NIBRS_Table_26_Individuals_Justifiably_Killed_Justifiable_Homicide_Circum_by_Agg_Aslt_Homicide_Circum_2024.csv\", encoding='latin1')\n",
    "Crimes_Persons_State = pd.read_csv(\"NIBRS_Table_27_Crimes_Against_Persons_Offenses_Offense_Category_by_State_2024.csv\", encoding='latin1')\n",
    "Crimes_Property_State = pd.read_csv(\"NIBRS_Table_28_Crimes_Against_Property_Offenses_Offense_Category_by_State_2024.csv\", encoding='latin1')\n",
    "Crimes_Society_State = pd.read_csv(\"NIBRS_Table_29_Crimes_Against_Society_Offenses_Offense_Category_by_State_2024.csv\", encoding='latin1')\n",
    "Offenses_Completed_Attempted = pd.read_csv(\"NIBRS_Table_30_Number_of_Offenses_Completed_and_Attempted_by_Offense_Category_2024.csv\", encoding='latin1')\n",
    "Incidents_Cleared = pd.read_csv(\"NIBRS_Table_31_Incidents_Cleared_by_Offense_Category_2024.csv\", encoding='latin1')\n",
    "Drug_Seizures = pd.read_csv(\"NIBRS_Table_32_Incidents_with_Drugs_Narcotics_Seized_by_Suspected_Drug_Type_2024.csv\", encoding='latin1')\n",
    "Drug_Alcohol_Use = pd.read_csv(\"NIBRS_Table_33_Offenses_Involving_Offenders_Suspected_Use_Drugs_Narcotics_and_Alcohol_by_Offense_Category_2024.csv\", encoding='latin1')\n",
    "US_Offense_Agency = pd.read_csv(\"NIBRS_United_States_Offense_Type_by_Agency_2024.csv\",encoding=\"latin1\",low_memory=False)"
   ]
  },
  {
   "cell_type": "code",
   "execution_count": 40,
   "id": "3580c0ea-bf1e-4349-b986-02a3b82cc3cc",
   "metadata": {},
   "outputs": [
    {
     "name": "stdout",
     "output_type": "stream",
     "text": [
      "Cleaned Columns: ['State', 'Number of Participating Agencies', 'Population Covered']\n"
     ]
    },
    {
     "data": {
      "application/vnd.plotly.v1+json": {
       "config": {
        "plotlyServerURL": "https://plot.ly"
       },
       "data": [
        {
         "hovertemplate": "State=%{z}<br>Population Covered=%{x}<br>Number of Participating Agencies=%{y}<extra></extra>",
         "legendgroup": "TOTAL",
         "marker": {
          "color": "#000001",
          "symbol": "circle"
         },
         "mode": "markers",
         "name": "TOTAL",
         "scene": "scene",
         "showlegend": true,
         "type": "scatter3d",
         "x": [
          "29,65,27,998"
         ],
         "y": [
          "14,601"
         ],
         "z": [
          "TOTAL"
         ]
        },
        {
         "hovertemplate": "State=%{z}<br>Population Covered=%{x}<br>Number of Participating Agencies=%{y}<extra></extra>",
         "legendgroup": "Alabama",
         "marker": {
          "color": "#000002",
          "symbol": "circle"
         },
         "mode": "markers",
         "name": "Alabama",
         "scene": "scene",
         "showlegend": true,
         "type": "scatter3d",
         "x": [
          "50,33,518"
         ],
         "y": [
          "418"
         ],
         "z": [
          "Alabama"
         ]
        },
        {
         "hovertemplate": "State=%{z}<br>Population Covered=%{x}<br>Number of Participating Agencies=%{y}<extra></extra>",
         "legendgroup": "Alaska",
         "marker": {
          "color": "#000003",
          "symbol": "circle"
         },
         "mode": "markers",
         "name": "Alaska",
         "scene": "scene",
         "showlegend": true,
         "type": "scatter3d",
         "x": [
          "4,50,712"
         ],
         "y": [
          "32"
         ],
         "z": [
          "Alaska"
         ]
        },
        {
         "hovertemplate": "State=%{z}<br>Population Covered=%{x}<br>Number of Participating Agencies=%{y}<extra></extra>",
         "legendgroup": "Arizona",
         "marker": {
          "color": "#000004",
          "symbol": "circle"
         },
         "mode": "markers",
         "name": "Arizona",
         "scene": "scene",
         "showlegend": true,
         "type": "scatter3d",
         "x": [
          "53,07,431"
         ],
         "y": [
          "92"
         ],
         "z": [
          "Arizona"
         ]
        },
        {
         "hovertemplate": "State=%{z}<br>Population Covered=%{x}<br>Number of Participating Agencies=%{y}<extra></extra>",
         "legendgroup": "Arkansas",
         "marker": {
          "color": "#000005",
          "symbol": "circle"
         },
         "mode": "markers",
         "name": "Arkansas",
         "scene": "scene",
         "showlegend": true,
         "type": "scatter3d",
         "x": [
          "30,29,333"
         ],
         "y": [
          "361"
         ],
         "z": [
          "Arkansas"
         ]
        },
        {
         "hovertemplate": "State=%{z}<br>Population Covered=%{x}<br>Number of Participating Agencies=%{y}<extra></extra>",
         "legendgroup": "California",
         "marker": {
          "color": "#000006",
          "symbol": "circle"
         },
         "mode": "markers",
         "name": "California",
         "scene": "scene",
         "showlegend": true,
         "type": "scatter3d",
         "x": [
          "3,00,04,853"
         ],
         "y": [
          "654"
         ],
         "z": [
          "California"
         ]
        },
        {
         "hovertemplate": "State=%{z}<br>Population Covered=%{x}<br>Number of Participating Agencies=%{y}<extra></extra>",
         "legendgroup": "Colorado",
         "marker": {
          "color": "#000007",
          "symbol": "circle"
         },
         "mode": "markers",
         "name": "Colorado",
         "scene": "scene",
         "showlegend": true,
         "type": "scatter3d",
         "x": [
          "59,14,071"
         ],
         "y": [
          "226"
         ],
         "z": [
          "Colorado"
         ]
        },
        {
         "hovertemplate": "State=%{z}<br>Population Covered=%{x}<br>Number of Participating Agencies=%{y}<extra></extra>",
         "legendgroup": "Connecticut",
         "marker": {
          "color": "#000008",
          "symbol": "circle"
         },
         "mode": "markers",
         "name": "Connecticut",
         "scene": "scene",
         "showlegend": true,
         "type": "scatter3d",
         "x": [
          "36,75,069"
         ],
         "y": [
          "108"
         ],
         "z": [
          "Connecticut"
         ]
        },
        {
         "hovertemplate": "State=%{z}<br>Population Covered=%{x}<br>Number of Participating Agencies=%{y}<extra></extra>",
         "legendgroup": "Delaware",
         "marker": {
          "color": "#000009",
          "symbol": "circle"
         },
         "mode": "markers",
         "name": "Delaware",
         "scene": "scene",
         "showlegend": true,
         "type": "scatter3d",
         "x": [
          "10,51,917"
         ],
         "y": [
          "63"
         ],
         "z": [
          "Delaware"
         ]
        },
        {
         "hovertemplate": "State=%{z}<br>Population Covered=%{x}<br>Number of Participating Agencies=%{y}<extra></extra>",
         "legendgroup": "District of Columbia",
         "marker": {
          "color": "#000010",
          "symbol": "circle"
         },
         "mode": "markers",
         "name": "District of Columbia",
         "scene": "scene",
         "showlegend": true,
         "type": "scatter3d",
         "x": [
          "7,02,250"
         ],
         "y": [
          "2"
         ],
         "z": [
          "District of Columbia"
         ]
        },
        {
         "hovertemplate": "State=%{z}<br>Population Covered=%{x}<br>Number of Participating Agencies=%{y}<extra></extra>",
         "legendgroup": "Florida",
         "marker": {
          "color": "#000001",
          "symbol": "circle"
         },
         "mode": "markers",
         "name": "Florida",
         "scene": "scene",
         "showlegend": true,
         "type": "scatter3d",
         "x": [
          "1,39,33,073"
         ],
         "y": [
          "159"
         ],
         "z": [
          "Florida"
         ]
        },
        {
         "hovertemplate": "State=%{z}<br>Population Covered=%{x}<br>Number of Participating Agencies=%{y}<extra></extra>",
         "legendgroup": "Georgia",
         "marker": {
          "color": "#000002",
          "symbol": "circle"
         },
         "mode": "markers",
         "name": "Georgia",
         "scene": "scene",
         "showlegend": true,
         "type": "scatter3d",
         "x": [
          "1,04,02,990"
         ],
         "y": [
          "434"
         ],
         "z": [
          "Georgia"
         ]
        },
        {
         "hovertemplate": "State=%{z}<br>Population Covered=%{x}<br>Number of Participating Agencies=%{y}<extra></extra>",
         "legendgroup": "Hawaii",
         "marker": {
          "color": "#000003",
          "symbol": "circle"
         },
         "mode": "markers",
         "name": "Hawaii",
         "scene": "scene",
         "showlegend": true,
         "type": "scatter3d",
         "x": [
          "14,46,146"
         ],
         "y": [
          "4"
         ],
         "z": [
          "Hawaii"
         ]
        },
        {
         "hovertemplate": "State=%{z}<br>Population Covered=%{x}<br>Number of Participating Agencies=%{y}<extra></extra>",
         "legendgroup": "Idaho",
         "marker": {
          "color": "#000004",
          "symbol": "circle"
         },
         "mode": "markers",
         "name": "Idaho",
         "scene": "scene",
         "showlegend": true,
         "type": "scatter3d",
         "x": [
          "19,97,727"
         ],
         "y": [
          "112"
         ],
         "z": [
          "Idaho"
         ]
        },
        {
         "hovertemplate": "State=%{z}<br>Population Covered=%{x}<br>Number of Participating Agencies=%{y}<extra></extra>",
         "legendgroup": "Illinois",
         "marker": {
          "color": "#000005",
          "symbol": "circle"
         },
         "mode": "markers",
         "name": "Illinois",
         "scene": "scene",
         "showlegend": true,
         "type": "scatter3d",
         "x": [
          "1,19,44,355"
         ],
         "y": [
          "685"
         ],
         "z": [
          "Illinois"
         ]
        },
        {
         "hovertemplate": "State=%{z}<br>Population Covered=%{x}<br>Number of Participating Agencies=%{y}<extra></extra>",
         "legendgroup": "Indiana",
         "marker": {
          "color": "#000006",
          "symbol": "circle"
         },
         "mode": "markers",
         "name": "Indiana",
         "scene": "scene",
         "showlegend": true,
         "type": "scatter3d",
         "x": [
          "60,82,277"
         ],
         "y": [
          "240"
         ],
         "z": [
          "Indiana"
         ]
        },
        {
         "hovertemplate": "State=%{z}<br>Population Covered=%{x}<br>Number of Participating Agencies=%{y}<extra></extra>",
         "legendgroup": "Iowa",
         "marker": {
          "color": "#000007",
          "symbol": "circle"
         },
         "mode": "markers",
         "name": "Iowa",
         "scene": "scene",
         "showlegend": true,
         "type": "scatter3d",
         "x": [
          "30,84,265"
         ],
         "y": [
          "265"
         ],
         "z": [
          "Iowa"
         ]
        },
        {
         "hovertemplate": "State=%{z}<br>Population Covered=%{x}<br>Number of Participating Agencies=%{y}<extra></extra>",
         "legendgroup": "Kansas",
         "marker": {
          "color": "#000008",
          "symbol": "circle"
         },
         "mode": "markers",
         "name": "Kansas",
         "scene": "scene",
         "showlegend": true,
         "type": "scatter3d",
         "x": [
          "28,84,464"
         ],
         "y": [
          "326"
         ],
         "z": [
          "Kansas"
         ]
        },
        {
         "hovertemplate": "State=%{z}<br>Population Covered=%{x}<br>Number of Participating Agencies=%{y}<extra></extra>",
         "legendgroup": "Kentucky",
         "marker": {
          "color": "#000009",
          "symbol": "circle"
         },
         "mode": "markers",
         "name": "Kentucky",
         "scene": "scene",
         "showlegend": true,
         "type": "scatter3d",
         "x": [
          "45,88,372"
         ],
         "y": [
          "452"
         ],
         "z": [
          "Kentucky"
         ]
        },
        {
         "hovertemplate": "State=%{z}<br>Population Covered=%{x}<br>Number of Participating Agencies=%{y}<extra></extra>",
         "legendgroup": "Louisiana",
         "marker": {
          "color": "#000010",
          "symbol": "circle"
         },
         "mode": "markers",
         "name": "Louisiana",
         "scene": "scene",
         "showlegend": true,
         "type": "scatter3d",
         "x": [
          "38,36,939"
         ],
         "y": [
          "151"
         ],
         "z": [
          "Louisiana"
         ]
        },
        {
         "hovertemplate": "State=%{z}<br>Population Covered=%{x}<br>Number of Participating Agencies=%{y}<extra></extra>",
         "legendgroup": "Maine",
         "marker": {
          "color": "#000001",
          "symbol": "circle"
         },
         "mode": "markers",
         "name": "Maine",
         "scene": "scene",
         "showlegend": true,
         "type": "scatter3d",
         "x": [
          "13,94,909"
         ],
         "y": [
          "127"
         ],
         "z": [
          "Maine"
         ]
        },
        {
         "hovertemplate": "State=%{z}<br>Population Covered=%{x}<br>Number of Participating Agencies=%{y}<extra></extra>",
         "legendgroup": "Maryland",
         "marker": {
          "color": "#000002",
          "symbol": "circle"
         },
         "mode": "markers",
         "name": "Maryland",
         "scene": "scene",
         "showlegend": true,
         "type": "scatter3d",
         "x": [
          "62,33,437"
         ],
         "y": [
          "147"
         ],
         "z": [
          "Maryland"
         ]
        },
        {
         "hovertemplate": "State=%{z}<br>Population Covered=%{x}<br>Number of Participating Agencies=%{y}<extra></extra>",
         "legendgroup": "Massachusetts",
         "marker": {
          "color": "#000003",
          "symbol": "circle"
         },
         "mode": "markers",
         "name": "Massachusetts",
         "scene": "scene",
         "showlegend": true,
         "type": "scatter3d",
         "x": [
          "71,17,646"
         ],
         "y": [
          "399"
         ],
         "z": [
          "Massachusetts"
         ]
        },
        {
         "hovertemplate": "State=%{z}<br>Population Covered=%{x}<br>Number of Participating Agencies=%{y}<extra></extra>",
         "legendgroup": "Michigan",
         "marker": {
          "color": "#000004",
          "symbol": "circle"
         },
         "mode": "markers",
         "name": "Michigan",
         "scene": "scene",
         "showlegend": true,
         "type": "scatter3d",
         "x": [
          "98,83,008"
         ],
         "y": [
          "601"
         ],
         "z": [
          "Michigan"
         ]
        },
        {
         "hovertemplate": "State=%{z}<br>Population Covered=%{x}<br>Number of Participating Agencies=%{y}<extra></extra>",
         "legendgroup": "Minnesota",
         "marker": {
          "color": "#000005",
          "symbol": "circle"
         },
         "mode": "markers",
         "name": "Minnesota",
         "scene": "scene",
         "showlegend": true,
         "type": "scatter3d",
         "x": [
          "57,88,088"
         ],
         "y": [
          "400"
         ],
         "z": [
          "Minnesota"
         ]
        },
        {
         "hovertemplate": "State=%{z}<br>Population Covered=%{x}<br>Number of Participating Agencies=%{y}<extra></extra>",
         "legendgroup": "Mississippi",
         "marker": {
          "color": "#000006",
          "symbol": "circle"
         },
         "mode": "markers",
         "name": "Mississippi",
         "scene": "scene",
         "showlegend": true,
         "type": "scatter3d",
         "x": [
          "16,86,116"
         ],
         "y": [
          "156"
         ],
         "z": [
          "Mississippi"
         ]
        },
        {
         "hovertemplate": "State=%{z}<br>Population Covered=%{x}<br>Number of Participating Agencies=%{y}<extra></extra>",
         "legendgroup": "Missouri",
         "marker": {
          "color": "#000007",
          "symbol": "circle"
         },
         "mode": "markers",
         "name": "Missouri",
         "scene": "scene",
         "showlegend": true,
         "type": "scatter3d",
         "x": [
          "61,33,318"
         ],
         "y": [
          "509"
         ],
         "z": [
          "Missouri"
         ]
        },
        {
         "hovertemplate": "State=%{z}<br>Population Covered=%{x}<br>Number of Participating Agencies=%{y}<extra></extra>",
         "legendgroup": "Montana",
         "marker": {
          "color": "#000008",
          "symbol": "circle"
         },
         "mode": "markers",
         "name": "Montana",
         "scene": "scene",
         "showlegend": true,
         "type": "scatter3d",
         "x": [
          "11,35,493"
         ],
         "y": [
          "110"
         ],
         "z": [
          "Montana"
         ]
        },
        {
         "hovertemplate": "State=%{z}<br>Population Covered=%{x}<br>Number of Participating Agencies=%{y}<extra></extra>",
         "legendgroup": "Nebraska",
         "marker": {
          "color": "#000009",
          "symbol": "circle"
         },
         "mode": "markers",
         "name": "Nebraska",
         "scene": "scene",
         "showlegend": true,
         "type": "scatter3d",
         "x": [
          "19,84,289"
         ],
         "y": [
          "250"
         ],
         "z": [
          "Nebraska"
         ]
        },
        {
         "hovertemplate": "State=%{z}<br>Population Covered=%{x}<br>Number of Participating Agencies=%{y}<extra></extra>",
         "legendgroup": "Nevada",
         "marker": {
          "color": "#000010",
          "symbol": "circle"
         },
         "mode": "markers",
         "name": "Nevada",
         "scene": "scene",
         "showlegend": true,
         "type": "scatter3d",
         "x": [
          "32,60,346"
         ],
         "y": [
          "57"
         ],
         "z": [
          "Nevada"
         ]
        },
        {
         "hovertemplate": "State=%{z}<br>Population Covered=%{x}<br>Number of Participating Agencies=%{y}<extra></extra>",
         "legendgroup": "New Hampshire",
         "marker": {
          "color": "#000001",
          "symbol": "circle"
         },
         "mode": "markers",
         "name": "New Hampshire",
         "scene": "scene",
         "showlegend": true,
         "type": "scatter3d",
         "x": [
          "14,05,906"
         ],
         "y": [
          "215"
         ],
         "z": [
          "New Hampshire"
         ]
        },
        {
         "hovertemplate": "State=%{z}<br>Population Covered=%{x}<br>Number of Participating Agencies=%{y}<extra></extra>",
         "legendgroup": "New Jersey",
         "marker": {
          "color": "#000002",
          "symbol": "circle"
         },
         "mode": "markers",
         "name": "New Jersey",
         "scene": "scene",
         "showlegend": true,
         "type": "scatter3d",
         "x": [
          "70,43,274"
         ],
         "y": [
          "370"
         ],
         "z": [
          "New Jersey"
         ]
        },
        {
         "hovertemplate": "State=%{z}<br>Population Covered=%{x}<br>Number of Participating Agencies=%{y}<extra></extra>",
         "legendgroup": "New Mexico",
         "marker": {
          "color": "#000003",
          "symbol": "circle"
         },
         "mode": "markers",
         "name": "New Mexico",
         "scene": "scene",
         "showlegend": true,
         "type": "scatter3d",
         "x": [
          "19,34,760"
         ],
         "y": [
          "104"
         ],
         "z": [
          "New Mexico"
         ]
        },
        {
         "hovertemplate": "State=%{z}<br>Population Covered=%{x}<br>Number of Participating Agencies=%{y}<extra></extra>",
         "legendgroup": "New York",
         "marker": {
          "color": "#000004",
          "symbol": "circle"
         },
         "mode": "markers",
         "name": "New York",
         "scene": "scene",
         "showlegend": true,
         "type": "scatter3d",
         "x": [
          "1,41,82,101"
         ],
         "y": [
          "194"
         ],
         "z": [
          "New York"
         ]
        },
        {
         "hovertemplate": "State=%{z}<br>Population Covered=%{x}<br>Number of Participating Agencies=%{y}<extra></extra>",
         "legendgroup": "North Carolina",
         "marker": {
          "color": "#000005",
          "symbol": "circle"
         },
         "mode": "markers",
         "name": "North Carolina",
         "scene": "scene",
         "showlegend": true,
         "type": "scatter3d",
         "x": [
          "1,05,43,278"
         ],
         "y": [
          "393"
         ],
         "z": [
          "North Carolina"
         ]
        },
        {
         "hovertemplate": "State=%{z}<br>Population Covered=%{x}<br>Number of Participating Agencies=%{y}<extra></extra>",
         "legendgroup": "North Dakota",
         "marker": {
          "color": "#000006",
          "symbol": "circle"
         },
         "mode": "markers",
         "name": "North Dakota",
         "scene": "scene",
         "showlegend": true,
         "type": "scatter3d",
         "x": [
          "7,91,040"
         ],
         "y": [
          "107"
         ],
         "z": [
          "North Dakota"
         ]
        },
        {
         "hovertemplate": "State=%{z}<br>Population Covered=%{x}<br>Number of Participating Agencies=%{y}<extra></extra>",
         "legendgroup": "Ohio",
         "marker": {
          "color": "#000007",
          "symbol": "circle"
         },
         "mode": "markers",
         "name": "Ohio",
         "scene": "scene",
         "showlegend": true,
         "type": "scatter3d",
         "x": [
          "1,11,18,870"
         ],
         "y": [
          "641"
         ],
         "z": [
          "Ohio"
         ]
        },
        {
         "hovertemplate": "State=%{z}<br>Population Covered=%{x}<br>Number of Participating Agencies=%{y}<extra></extra>",
         "legendgroup": "Oklahoma",
         "marker": {
          "color": "#000008",
          "symbol": "circle"
         },
         "mode": "markers",
         "name": "Oklahoma",
         "scene": "scene",
         "showlegend": true,
         "type": "scatter3d",
         "x": [
          "40,95,393"
         ],
         "y": [
          "471"
         ],
         "z": [
          "Oklahoma"
         ]
        },
        {
         "hovertemplate": "State=%{z}<br>Population Covered=%{x}<br>Number of Participating Agencies=%{y}<extra></extra>",
         "legendgroup": "Oregon",
         "marker": {
          "color": "#000009",
          "symbol": "circle"
         },
         "mode": "markers",
         "name": "Oregon",
         "scene": "scene",
         "showlegend": true,
         "type": "scatter3d",
         "x": [
          "42,19,895"
         ],
         "y": [
          "208"
         ],
         "z": [
          "Oregon"
         ]
        },
        {
         "hovertemplate": "State=%{z}<br>Population Covered=%{x}<br>Number of Participating Agencies=%{y}<extra></extra>",
         "legendgroup": "Pennsylvania",
         "marker": {
          "color": "#000010",
          "symbol": "circle"
         },
         "mode": "markers",
         "name": "Pennsylvania",
         "scene": "scene",
         "showlegend": true,
         "type": "scatter3d",
         "x": [
          "66,18,568"
         ],
         "y": [
          "202"
         ],
         "z": [
          "Pennsylvania"
         ]
        },
        {
         "hovertemplate": "State=%{z}<br>Population Covered=%{x}<br>Number of Participating Agencies=%{y}<extra></extra>",
         "legendgroup": "Rhode Island",
         "marker": {
          "color": "#000001",
          "symbol": "circle"
         },
         "mode": "markers",
         "name": "Rhode Island",
         "scene": "scene",
         "showlegend": true,
         "type": "scatter3d",
         "x": [
          "11,10,883"
         ],
         "y": [
          "48"
         ],
         "z": [
          "Rhode Island"
         ]
        },
        {
         "hovertemplate": "State=%{z}<br>Population Covered=%{x}<br>Number of Participating Agencies=%{y}<extra></extra>",
         "legendgroup": "South Carolina",
         "marker": {
          "color": "#000002",
          "symbol": "circle"
         },
         "mode": "markers",
         "name": "South Carolina",
         "scene": "scene",
         "showlegend": true,
         "type": "scatter3d",
         "x": [
          "54,72,057"
         ],
         "y": [
          "447"
         ],
         "z": [
          "South Carolina"
         ]
        },
        {
         "hovertemplate": "State=%{z}<br>Population Covered=%{x}<br>Number of Participating Agencies=%{y}<extra></extra>",
         "legendgroup": "South Dakota",
         "marker": {
          "color": "#000003",
          "symbol": "circle"
         },
         "mode": "markers",
         "name": "South Dakota",
         "scene": "scene",
         "showlegend": true,
         "type": "scatter3d",
         "x": [
          "8,32,620"
         ],
         "y": [
          "101"
         ],
         "z": [
          "South Dakota"
         ]
        },
        {
         "hovertemplate": "State=%{z}<br>Population Covered=%{x}<br>Number of Participating Agencies=%{y}<extra></extra>",
         "legendgroup": "Tennessee",
         "marker": {
          "color": "#000004",
          "symbol": "circle"
         },
         "mode": "markers",
         "name": "Tennessee",
         "scene": "scene",
         "showlegend": true,
         "type": "scatter3d",
         "x": [
          "72,20,116"
         ],
         "y": [
          "395"
         ],
         "z": [
          "Tennessee"
         ]
        },
        {
         "hovertemplate": "State=%{z}<br>Population Covered=%{x}<br>Number of Participating Agencies=%{y}<extra></extra>",
         "legendgroup": "Texas",
         "marker": {
          "color": "#000005",
          "symbol": "circle"
         },
         "mode": "markers",
         "name": "Texas",
         "scene": "scene",
         "showlegend": true,
         "type": "scatter3d",
         "x": [
          "3,10,98,882"
         ],
         "y": [
          "1,531"
         ],
         "z": [
          "Texas"
         ]
        },
        {
         "hovertemplate": "State=%{z}<br>Population Covered=%{x}<br>Number of Participating Agencies=%{y}<extra></extra>",
         "legendgroup": "Utah",
         "marker": {
          "color": "#000006",
          "symbol": "circle"
         },
         "mode": "markers",
         "name": "Utah",
         "scene": "scene",
         "showlegend": true,
         "type": "scatter3d",
         "x": [
          "34,39,646"
         ],
         "y": [
          "139"
         ],
         "z": [
          "Utah"
         ]
        },
        {
         "hovertemplate": "State=%{z}<br>Population Covered=%{x}<br>Number of Participating Agencies=%{y}<extra></extra>",
         "legendgroup": "Vermont",
         "marker": {
          "color": "#000007",
          "symbol": "circle"
         },
         "mode": "markers",
         "name": "Vermont",
         "scene": "scene",
         "showlegend": true,
         "type": "scatter3d",
         "x": [
          "6,48,493"
         ],
         "y": [
          "87"
         ],
         "z": [
          "Vermont"
         ]
        },
        {
         "hovertemplate": "State=%{z}<br>Population Covered=%{x}<br>Number of Participating Agencies=%{y}<extra></extra>",
         "legendgroup": "Virginia",
         "marker": {
          "color": "#000008",
          "symbol": "circle"
         },
         "mode": "markers",
         "name": "Virginia",
         "scene": "scene",
         "showlegend": true,
         "type": "scatter3d",
         "x": [
          "88,09,350"
         ],
         "y": [
          "413"
         ],
         "z": [
          "Virginia"
         ]
        },
        {
         "hovertemplate": "State=%{z}<br>Population Covered=%{x}<br>Number of Participating Agencies=%{y}<extra></extra>",
         "legendgroup": "Washington",
         "marker": {
          "color": "#000009",
          "symbol": "circle"
         },
         "mode": "markers",
         "name": "Washington",
         "scene": "scene",
         "showlegend": true,
         "type": "scatter3d",
         "x": [
          "79,20,519"
         ],
         "y": [
          "256"
         ],
         "z": [
          "Washington"
         ]
        },
        {
         "hovertemplate": "State=%{z}<br>Population Covered=%{x}<br>Number of Participating Agencies=%{y}<extra></extra>",
         "legendgroup": "West Virginia",
         "marker": {
          "color": "#000010",
          "symbol": "circle"
         },
         "mode": "markers",
         "name": "West Virginia",
         "scene": "scene",
         "showlegend": true,
         "type": "scatter3d",
         "x": [
          "16,55,249"
         ],
         "y": [
          "286"
         ],
         "z": [
          "West Virginia"
         ]
        },
        {
         "hovertemplate": "State=%{z}<br>Population Covered=%{x}<br>Number of Participating Agencies=%{y}<extra></extra>",
         "legendgroup": "Wisconsin",
         "marker": {
          "color": "#000001",
          "symbol": "circle"
         },
         "mode": "markers",
         "name": "Wisconsin",
         "scene": "scene",
         "showlegend": true,
         "type": "scatter3d",
         "x": [
          "58,47,605"
         ],
         "y": [
          "398"
         ],
         "z": [
          "Wisconsin"
         ]
        },
        {
         "hovertemplate": "State=%{z}<br>Population Covered=%{x}<br>Number of Participating Agencies=%{y}<extra></extra>",
         "legendgroup": "Wyoming",
         "marker": {
          "color": "#000002",
          "symbol": "circle"
         },
         "mode": "markers",
         "name": "Wyoming",
         "scene": "scene",
         "showlegend": true,
         "type": "scatter3d",
         "x": [
          "5,33,081"
         ],
         "y": [
          "55"
         ],
         "z": [
          "Wyoming"
         ]
        }
       ],
       "layout": {
        "legend": {
         "title": {
          "text": "State"
         },
         "tracegroupgap": 0
        },
        "scene": {
         "domain": {
          "x": [
           0,
           1
          ],
          "y": [
           0,
           1
          ]
         },
         "xaxis": {
          "title": {
           "text": "Population Covered"
          }
         },
         "yaxis": {
          "title": {
           "text": "Number of Participating Agencies"
          }
         },
         "zaxis": {
          "categoryarray": [
           "TOTAL",
           "Alabama",
           "Alaska",
           "Arizona",
           "Arkansas",
           "California",
           "Colorado",
           "Connecticut",
           "Delaware",
           "District of Columbia",
           "Florida",
           "Georgia",
           "Hawaii",
           "Idaho",
           "Illinois",
           "Indiana",
           "Iowa",
           "Kansas",
           "Kentucky",
           "Louisiana",
           "Maine",
           "Maryland",
           "Massachusetts",
           "Michigan",
           "Minnesota",
           "Mississippi",
           "Missouri",
           "Montana",
           "Nebraska",
           "Nevada",
           "New Hampshire",
           "New Jersey",
           "New Mexico",
           "New York",
           "North Carolina",
           "North Dakota",
           "Ohio",
           "Oklahoma",
           "Oregon",
           "Pennsylvania",
           "Rhode Island",
           "South Carolina",
           "South Dakota",
           "Tennessee",
           "Texas",
           "Utah",
           "Vermont",
           "Virginia",
           "Washington",
           "West Virginia",
           "Wisconsin",
           "Wyoming"
          ],
          "categoryorder": "array",
          "title": {
           "text": "State"
          }
         }
        },
        "template": {
         "data": {
          "candlestick": [
           {
            "decreasing": {
             "line": {
              "color": "#000033"
             }
            },
            "increasing": {
             "line": {
              "color": "#000032"
             }
            },
            "type": "candlestick"
           }
          ],
          "contour": [
           {
            "colorscale": [
             [
              0,
              "#000011"
             ],
             [
              0.1111111111111111,
              "#000012"
             ],
             [
              0.2222222222222222,
              "#000013"
             ],
             [
              0.3333333333333333,
              "#000014"
             ],
             [
              0.4444444444444444,
              "#000015"
             ],
             [
              0.5555555555555556,
              "#000016"
             ],
             [
              0.6666666666666666,
              "#000017"
             ],
             [
              0.7777777777777778,
              "#000018"
             ],
             [
              0.8888888888888888,
              "#000019"
             ],
             [
              1,
              "#000020"
             ]
            ],
            "type": "contour"
           }
          ],
          "contourcarpet": [
           {
            "colorscale": [
             [
              0,
              "#000011"
             ],
             [
              0.1111111111111111,
              "#000012"
             ],
             [
              0.2222222222222222,
              "#000013"
             ],
             [
              0.3333333333333333,
              "#000014"
             ],
             [
              0.4444444444444444,
              "#000015"
             ],
             [
              0.5555555555555556,
              "#000016"
             ],
             [
              0.6666666666666666,
              "#000017"
             ],
             [
              0.7777777777777778,
              "#000018"
             ],
             [
              0.8888888888888888,
              "#000019"
             ],
             [
              1,
              "#000020"
             ]
            ],
            "type": "contourcarpet"
           }
          ],
          "heatmap": [
           {
            "colorscale": [
             [
              0,
              "#000011"
             ],
             [
              0.1111111111111111,
              "#000012"
             ],
             [
              0.2222222222222222,
              "#000013"
             ],
             [
              0.3333333333333333,
              "#000014"
             ],
             [
              0.4444444444444444,
              "#000015"
             ],
             [
              0.5555555555555556,
              "#000016"
             ],
             [
              0.6666666666666666,
              "#000017"
             ],
             [
              0.7777777777777778,
              "#000018"
             ],
             [
              0.8888888888888888,
              "#000019"
             ],
             [
              1,
              "#000020"
             ]
            ],
            "type": "heatmap"
           }
          ],
          "histogram2d": [
           {
            "colorscale": [
             [
              0,
              "#000011"
             ],
             [
              0.1111111111111111,
              "#000012"
             ],
             [
              0.2222222222222222,
              "#000013"
             ],
             [
              0.3333333333333333,
              "#000014"
             ],
             [
              0.4444444444444444,
              "#000015"
             ],
             [
              0.5555555555555556,
              "#000016"
             ],
             [
              0.6666666666666666,
              "#000017"
             ],
             [
              0.7777777777777778,
              "#000018"
             ],
             [
              0.8888888888888888,
              "#000019"
             ],
             [
              1,
              "#000020"
             ]
            ],
            "type": "histogram2d"
           }
          ],
          "icicle": [
           {
            "textfont": {
             "color": "white"
            },
            "type": "icicle"
           }
          ],
          "sankey": [
           {
            "textfont": {
             "color": "#000036"
            },
            "type": "sankey"
           }
          ],
          "scatter": [
           {
            "marker": {
             "line": {
              "width": 0
             }
            },
            "type": "scatter"
           }
          ],
          "table": [
           {
            "cells": {
             "fill": {
              "color": "#000038"
             },
             "font": {
              "color": "#000037"
             },
             "line": {
              "color": "#000039"
             }
            },
            "header": {
             "fill": {
              "color": "#000040"
             },
             "font": {
              "color": "#000036"
             },
             "line": {
              "color": "#000039"
             }
            },
            "type": "table"
           }
          ],
          "waterfall": [
           {
            "connector": {
             "line": {
              "color": "#000036",
              "width": 2
             }
            },
            "decreasing": {
             "marker": {
              "color": "#000033"
             }
            },
            "increasing": {
             "marker": {
              "color": "#000032"
             }
            },
            "totals": {
             "marker": {
              "color": "#000034"
             }
            },
            "type": "waterfall"
           }
          ]
         },
         "layout": {
          "coloraxis": {
           "colorscale": [
            [
             0,
             "#000011"
            ],
            [
             0.1111111111111111,
             "#000012"
            ],
            [
             0.2222222222222222,
             "#000013"
            ],
            [
             0.3333333333333333,
             "#000014"
            ],
            [
             0.4444444444444444,
             "#000015"
            ],
            [
             0.5555555555555556,
             "#000016"
            ],
            [
             0.6666666666666666,
             "#000017"
            ],
            [
             0.7777777777777778,
             "#000018"
            ],
            [
             0.8888888888888888,
             "#000019"
            ],
            [
             1,
             "#000020"
            ]
           ]
          },
          "colorscale": {
           "diverging": [
            [
             0,
             "#000021"
            ],
            [
             0.1,
             "#000022"
            ],
            [
             0.2,
             "#000023"
            ],
            [
             0.3,
             "#000024"
            ],
            [
             0.4,
             "#000025"
            ],
            [
             0.5,
             "#000026"
            ],
            [
             0.6,
             "#000027"
            ],
            [
             0.7,
             "#000028"
            ],
            [
             0.8,
             "#000029"
            ],
            [
             0.9,
             "#000030"
            ],
            [
             1,
             "#000031"
            ]
           ],
           "sequential": [
            [
             0,
             "#000011"
            ],
            [
             0.1111111111111111,
             "#000012"
            ],
            [
             0.2222222222222222,
             "#000013"
            ],
            [
             0.3333333333333333,
             "#000014"
            ],
            [
             0.4444444444444444,
             "#000015"
            ],
            [
             0.5555555555555556,
             "#000016"
            ],
            [
             0.6666666666666666,
             "#000017"
            ],
            [
             0.7777777777777778,
             "#000018"
            ],
            [
             0.8888888888888888,
             "#000019"
            ],
            [
             1,
             "#000020"
            ]
           ],
           "sequentialminus": [
            [
             0,
             "#000011"
            ],
            [
             0.1111111111111111,
             "#000012"
            ],
            [
             0.2222222222222222,
             "#000013"
            ],
            [
             0.3333333333333333,
             "#000014"
            ],
            [
             0.4444444444444444,
             "#000015"
            ],
            [
             0.5555555555555556,
             "#000016"
            ],
            [
             0.6666666666666666,
             "#000017"
            ],
            [
             0.7777777777777778,
             "#000018"
            ],
            [
             0.8888888888888888,
             "#000019"
            ],
            [
             1,
             "#000020"
            ]
           ]
          },
          "colorway": [
           "#000001",
           "#000002",
           "#000003",
           "#000004",
           "#000005",
           "#000006",
           "#000007",
           "#000008",
           "#000009",
           "#000010"
          ]
         }
        },
        "title": {
         "text": "3D Scatter: Population vs Agencies by State"
        }
       }
      },
      "image/png": "[encoded data removed]"
     },
     "metadata": {},
     "output_type": "display_data"
    }
   ],
   "source": [
    "import plotly.express as px\n",
    "\n",
    "# Step 1: Clean column names - remove newlines & normalize multiple spaces\n",
    "Participation_by_State.columns = (\n",
    "    Participation_by_State.columns\n",
    "    .str.replace(\"\\n\", \" \")         # replace newlines with spaces\n",
    "    .str.replace(r\"\\s+\", \" \", regex=True)  # collapse multiple spaces into one\n",
    "    .str.strip()                    # remove leading/trailing spaces\n",
    ")\n",
    "\n",
    "# Step 2: Show cleaned column names\n",
    "print(\"Cleaned Columns:\", Participation_by_State.columns.tolist())\n",
    "\n",
    "# Step 3: 3D Scatter Plot using cleaned column names\n",
    "fig = px.scatter_3d(\n",
    "    Participation_by_State,\n",
    "    x=\"Population Covered\",              # now matches cleaned column\n",
    "    y=\"Number of Participating Agencies\",\n",
    "    z=\"State\",                           # categorical (text)\n",
    "    color=\"State\",\n",
    "    title=\"3D Scatter: Population vs Agencies by State\"\n",
    ")\n",
    "\n",
    "fig.show()\n"
   ]
  },
  {
   "cell_type": "code",
   "execution_count": 41,
   "id": "dc6a4222-8840-4af9-8c9a-1ade2a26153f",
   "metadata": {},
   "outputs": [
    {
     "data": {
      "image/png": "[encoded data removed]",
      "text/plain": [
       "<Figure size 1000x600 with 1 Axes>"
      ]
     },
     "metadata": {},
     "output_type": "display_data"
    },
    {
     "ename": "TypeError",
     "evalue": "unsupported operand type(s) for /: 'str' and 'int'",
     "output_type": "error",
     "traceback": [
      "\u001b[31m---------------------------------------------------------------------------\u001b[39m",
      "\u001b[31mTypeError\u001b[39m                                 Traceback (most recent call last)",
      "\u001b[36mCell\u001b[39m\u001b[36m \u001b[39m\u001b[32mIn[41]\u001b[39m\u001b[32m, line 8\u001b[39m\n\u001b[32m      5\u001b[39m plt.show()\n\u001b[32m      7\u001b[39m \u001b[38;5;66;03m# 3D Scatter\u001b[39;00m\n\u001b[32m----> \u001b[39m\u001b[32m8\u001b[39m fig = \u001b[43mpx\u001b[49m\u001b[43m.\u001b[49m\u001b[43mscatter_3d\u001b[49m\u001b[43m(\u001b[49m\u001b[43mParticipation_by_State\u001b[49m\u001b[43m,\u001b[49m\n\u001b[32m      9\u001b[39m \u001b[43m                    \u001b[49m\u001b[43mx\u001b[49m\u001b[43m=\u001b[49m\u001b[33;43m\"\u001b[39;49m\u001b[33;43mPopulation Covered\u001b[39;49m\u001b[33;43m\"\u001b[39;49m\u001b[43m,\u001b[49m\u001b[43m \u001b[49m\u001b[43my\u001b[49m\u001b[43m=\u001b[49m\u001b[33;43m\"\u001b[39;49m\u001b[33;43mNumber of Participating Agencies\u001b[39;49m\u001b[33;43m\"\u001b[39;49m\u001b[43m,\u001b[49m\u001b[43m \u001b[49m\u001b[43mz\u001b[49m\u001b[43m=\u001b[49m\u001b[33;43m\"\u001b[39;49m\u001b[33;43mState\u001b[39;49m\u001b[33;43m\"\u001b[39;49m\u001b[43m,\u001b[49m\n\u001b[32m     10\u001b[39m \u001b[43m                    \u001b[49m\u001b[43mcolor\u001b[49m\u001b[43m=\u001b[49m\u001b[33;43m\"\u001b[39;49m\u001b[33;43mState\u001b[39;49m\u001b[33;43m\"\u001b[39;49m\u001b[43m,\u001b[49m\u001b[43m \u001b[49m\u001b[43msize\u001b[49m\u001b[43m=\u001b[49m\u001b[33;43m\"\u001b[39;49m\u001b[33;43mPopulation Covered\u001b[39;49m\u001b[33;43m\"\u001b[39;49m\u001b[43m,\u001b[49m\n\u001b[32m     11\u001b[39m \u001b[43m                    \u001b[49m\u001b[43mtitle\u001b[49m\u001b[43m=\u001b[49m\u001b[33;43m\"\u001b[39;49m\u001b[33;43m3D Scatter — Agencies vs Population vs State\u001b[39;49m\u001b[33;43m\"\u001b[39;49m\u001b[43m)\u001b[49m\n\u001b[32m     12\u001b[39m fig.show()\n\u001b[32m     14\u001b[39m \u001b[38;5;66;03m# Treemap — Participation by State\u001b[39;00m\n",
      "\u001b[36mFile \u001b[39m\u001b[32m/opt/homebrew/Cellar/jupyterlab/4.4.5/libexec/lib/python3.13/site-packages/plotly/express/_chart_types.py:791\u001b[39m, in \u001b[36mscatter_3d\u001b[39m\u001b[34m(data_frame, x, y, z, color, symbol, size, text, hover_name, hover_data, custom_data, error_x, error_x_minus, error_y, error_y_minus, error_z, error_z_minus, animation_frame, animation_group, category_orders, labels, size_max, color_discrete_sequence, color_discrete_map, color_continuous_scale, range_color, color_continuous_midpoint, symbol_sequence, symbol_map, opacity, log_x, log_y, log_z, range_x, range_y, range_z, title, subtitle, template, width, height)\u001b[39m\n\u001b[32m    744\u001b[39m \u001b[38;5;28;01mdef\u001b[39;00m\u001b[38;5;250m \u001b[39m\u001b[34mscatter_3d\u001b[39m(\n\u001b[32m    745\u001b[39m     data_frame=\u001b[38;5;28;01mNone\u001b[39;00m,\n\u001b[32m    746\u001b[39m     x=\u001b[38;5;28;01mNone\u001b[39;00m,\n\u001b[32m   (...)\u001b[39m\u001b[32m    785\u001b[39m     height=\u001b[38;5;28;01mNone\u001b[39;00m,\n\u001b[32m    786\u001b[39m ) -> go.Figure:\n\u001b[32m    787\u001b[39m \u001b[38;5;250m    \u001b[39m\u001b[33;03m\"\"\"\u001b[39;00m\n\u001b[32m    788\u001b[39m \u001b[33;03m    In a 3D scatter plot, each row of `data_frame` is represented by a\u001b[39;00m\n\u001b[32m    789\u001b[39m \u001b[33;03m    symbol mark in 3D space.\u001b[39;00m\n\u001b[32m    790\u001b[39m \u001b[33;03m    \"\"\"\u001b[39;00m\n\u001b[32m--> \u001b[39m\u001b[32m791\u001b[39m     \u001b[38;5;28;01mreturn\u001b[39;00m \u001b[43mmake_figure\u001b[49m\u001b[43m(\u001b[49m\u001b[43margs\u001b[49m\u001b[43m=\u001b[49m\u001b[38;5;28;43mlocals\u001b[39;49m\u001b[43m(\u001b[49m\u001b[43m)\u001b[49m\u001b[43m,\u001b[49m\u001b[43m \u001b[49m\u001b[43mconstructor\u001b[49m\u001b[43m=\u001b[49m\u001b[43mgo\u001b[49m\u001b[43m.\u001b[49m\u001b[43mScatter3d\u001b[49m\u001b[43m)\u001b[49m\n",
      "\u001b[36mFile \u001b[39m\u001b[32m/opt/homebrew/Cellar/jupyterlab/4.4.5/libexec/lib/python3.13/site-packages/plotly/express/_core.py:2504\u001b[39m, in \u001b[36mmake_figure\u001b[39m\u001b[34m(args, constructor, trace_patch, layout_patch)\u001b[39m\n\u001b[32m   2501\u001b[39m \u001b[38;5;28;01mif\u001b[39;00m \u001b[33m\"\u001b[39m\u001b[33mhistogram\u001b[39m\u001b[33m\"\u001b[39m \u001b[38;5;129;01min\u001b[39;00m [args.get(\u001b[33m\"\u001b[39m\u001b[33mmarginal_x\u001b[39m\u001b[33m\"\u001b[39m), args.get(\u001b[33m\"\u001b[39m\u001b[33mmarginal_y\u001b[39m\u001b[33m\"\u001b[39m)]:\n\u001b[32m   2502\u001b[39m     layout_patch[\u001b[33m\"\u001b[39m\u001b[33mbarmode\u001b[39m\u001b[33m\"\u001b[39m] = \u001b[33m\"\u001b[39m\u001b[33moverlay\u001b[39m\u001b[33m\"\u001b[39m\n\u001b[32m-> \u001b[39m\u001b[32m2504\u001b[39m trace_specs, grouped_mappings, sizeref, show_colorbar = \u001b[43minfer_config\u001b[49m\u001b[43m(\u001b[49m\n\u001b[32m   2505\u001b[39m \u001b[43m    \u001b[49m\u001b[43margs\u001b[49m\u001b[43m,\u001b[49m\u001b[43m \u001b[49m\u001b[43mconstructor\u001b[49m\u001b[43m,\u001b[49m\u001b[43m \u001b[49m\u001b[43mtrace_patch\u001b[49m\u001b[43m,\u001b[49m\u001b[43m \u001b[49m\u001b[43mlayout_patch\u001b[49m\n\u001b[32m   2506\u001b[39m \u001b[43m\u001b[49m\u001b[43m)\u001b[49m\n\u001b[32m   2507\u001b[39m grouper = [x.grouper \u001b[38;5;129;01mor\u001b[39;00m one_group \u001b[38;5;28;01mfor\u001b[39;00m x \u001b[38;5;129;01min\u001b[39;00m grouped_mappings] \u001b[38;5;129;01mor\u001b[39;00m [one_group]\n\u001b[32m   2508\u001b[39m groups, orders = get_groups_and_orders(args, grouper)\n",
      "\u001b[36mFile \u001b[39m\u001b[32m/opt/homebrew/Cellar/jupyterlab/4.4.5/libexec/lib/python3.13/site-packages/plotly/express/_core.py:2197\u001b[39m, in \u001b[36minfer_config\u001b[39m\u001b[34m(args, constructor, trace_patch, layout_patch)\u001b[39m\n\u001b[32m   2194\u001b[39m sizeref = \u001b[32m0\u001b[39m\n\u001b[32m   2195\u001b[39m \u001b[38;5;28;01mif\u001b[39;00m \u001b[33m\"\u001b[39m\u001b[33msize\u001b[39m\u001b[33m\"\u001b[39m \u001b[38;5;129;01min\u001b[39;00m args \u001b[38;5;129;01mand\u001b[39;00m args[\u001b[33m\"\u001b[39m\u001b[33msize\u001b[39m\u001b[33m\"\u001b[39m]:\n\u001b[32m   2196\u001b[39m     sizeref = (\n\u001b[32m-> \u001b[39m\u001b[32m2197\u001b[39m         \u001b[43mnw\u001b[49m\u001b[43m.\u001b[49m\u001b[43mto_py_scalar\u001b[49m\u001b[43m(\u001b[49m\u001b[43mdf\u001b[49m\u001b[43m.\u001b[49m\u001b[43mget_column\u001b[49m\u001b[43m(\u001b[49m\u001b[43margs\u001b[49m\u001b[43m[\u001b[49m\u001b[33;43m\"\u001b[39;49m\u001b[33;43msize\u001b[39;49m\u001b[33;43m\"\u001b[39;49m\u001b[43m]\u001b[49m\u001b[43m)\u001b[49m\u001b[43m.\u001b[49m\u001b[43mmax\u001b[49m\u001b[43m(\u001b[49m\u001b[43m)\u001b[49m\u001b[43m)\u001b[49m\u001b[43m \u001b[49m\u001b[43m/\u001b[49m\u001b[43m \u001b[49m\u001b[43margs\u001b[49m\u001b[43m[\u001b[49m\u001b[33;43m\"\u001b[39;49m\u001b[33;43msize_max\u001b[39;49m\u001b[33;43m\"\u001b[39;49m\u001b[43m]\u001b[49m\u001b[43m \u001b[49m\u001b[43m*\u001b[49m\u001b[43m*\u001b[49m\u001b[43m \u001b[49m\u001b[32;43m2\u001b[39;49m\n\u001b[32m   2198\u001b[39m     )\n\u001b[32m   2200\u001b[39m \u001b[38;5;66;03m# Compute color attributes and grouping attributes\u001b[39;00m\n\u001b[32m   2201\u001b[39m \u001b[38;5;28;01mif\u001b[39;00m \u001b[33m\"\u001b[39m\u001b[33mcolor\u001b[39m\u001b[33m\"\u001b[39m \u001b[38;5;129;01min\u001b[39;00m args:\n",
      "\u001b[31mTypeError\u001b[39m: unsupported operand type(s) for /: 'str' and 'int'"
     ]
    }
   ],
   "source": [
    "# Scatter: Agencies vs Population\n",
    "plt.figure(figsize=(10,6))\n",
    "sns.scatterplot(x=\"Population Covered\", y=\"Number of Participating Agencies\", data=Participation_by_State)\n",
    "plt.title(\"Population vs Agencies (By State)\")\n",
    "plt.show()\n",
    "\n",
    "# 3D Scatter\n",
    "fig = px.scatter_3d(Participation_by_State,\n",
    "                    x=\"Population Covered\", y=\"Number of Participating Agencies\", z=\"State\",\n",
    "                    color=\"State\", size=\"Population Covered\",\n",
    "                    title=\"3D Scatter — Agencies vs Population vs State\")\n",
    "fig.show()\n",
    "\n",
    "# Treemap — Participation by State\n",
    "fig = px.treemap(Participation_by_State,\n",
    "                 path=[\"State\"], values=\"Population Covered\",\n",
    "                 color=\"Number of Participating Agencies\", color_continuous_scale=\"Viridis\",\n",
    "                 title=\"Treemap — State Participation (Size = Population, Color = Agencies)\")\n",
    "fig.show()\n"
   ]
  },
  {
   "cell_type": "code",
   "execution_count": null,
   "id": "e6c5dcbc-bfee-4b28-8788-ad2ee6461aa3",
   "metadata": {},
   "outputs": [],
   "source": []
  }
 ],
 "metadata": {
  "kernelspec": {
   "display_name": "Python 3 (ipykernel)",
   "language": "python",
   "name": "python3"
  },
  "language_info": {
   "codemirror_mode": {
    "name": "ipython",
    "version": 3
   },
   "file_extension": ".py",
   "mimetype": "text/x-python",
   "name": "python",
   "nbconvert_exporter": "python",
   "pygments_lexer": "ipython3",
   "version": "3.13.5"
  }
 },
 "nbformat": 4,
 "nbformat_minor": 5
}
